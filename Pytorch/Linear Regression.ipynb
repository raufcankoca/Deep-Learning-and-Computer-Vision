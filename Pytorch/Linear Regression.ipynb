{
 "cells": [
  {
   "cell_type": "code",
   "execution_count": 19,
   "id": "67a2832d",
   "metadata": {},
   "outputs": [],
   "source": [
    "import torch\n",
    "import torch.nn as nn\n",
    "import torchvision.transforms as transforms\n",
    "import matplotlib.pyplot as plt\n",
    "import numpy as np\n",
    "from sklearn import datasets"
   ]
  },
  {
   "cell_type": "code",
   "execution_count": 34,
   "id": "d8eb096a",
   "metadata": {},
   "outputs": [
    {
     "data": {
      "text/plain": [
       "((100, 1), (100,))"
      ]
     },
     "execution_count": 34,
     "metadata": {},
     "output_type": "execute_result"
    }
   ],
   "source": [
    "X_numpy,y_numpy=datasets.make_regression(n_samples=100,n_features=1,noise=20,random_state=1)\n",
    "X_numpy.shape,y_numpy.shape"
   ]
  },
  {
   "cell_type": "code",
   "execution_count": 35,
   "id": "7927a5f2",
   "metadata": {},
   "outputs": [],
   "source": [
    "X=torch.from_numpy(X_numpy.astype(np.float32))\n",
    "y=torch.from_numpy(y_numpy.astype(np.float32))"
   ]
  },
  {
   "cell_type": "code",
   "execution_count": 36,
   "id": "54df73b8",
   "metadata": {},
   "outputs": [
    {
     "data": {
      "text/plain": [
       "(torch.Size([100, 1]), torch.Size([100]))"
      ]
     },
     "execution_count": 36,
     "metadata": {},
     "output_type": "execute_result"
    }
   ],
   "source": [
    "X.shape , y.shape"
   ]
  },
  {
   "cell_type": "code",
   "execution_count": 37,
   "id": "48a5fcb3",
   "metadata": {},
   "outputs": [
    {
     "data": {
      "text/plain": [
       "torch.Size([100, 1])"
      ]
     },
     "execution_count": 37,
     "metadata": {},
     "output_type": "execute_result"
    }
   ],
   "source": [
    "y=y.view(y.shape[0],1)\n",
    "y.shape"
   ]
  },
  {
   "cell_type": "code",
   "execution_count": 38,
   "id": "6541fe2a",
   "metadata": {},
   "outputs": [],
   "source": [
    "n_samples,n_features=X.shape\n",
    "input_size=n_features\n",
    "output_size=n_features"
   ]
  },
  {
   "cell_type": "code",
   "execution_count": 47,
   "id": "79c765fc",
   "metadata": {},
   "outputs": [
    {
     "name": "stdout",
     "output_type": "stream",
     "text": [
      "epoch 10 , loss = 4382.9746\n",
      "epoch 20 , loss = 3270.1875\n",
      "epoch 30 , loss = 2465.0188\n",
      "epoch 40 , loss = 1881.8090\n",
      "epoch 50 , loss = 1458.9543\n",
      "epoch 60 , loss = 1152.0845\n",
      "epoch 70 , loss = 929.1981\n",
      "epoch 80 , loss = 767.1854\n",
      "epoch 90 , loss = 649.3362\n",
      "epoch 100 , loss = 563.5558\n",
      "epoch 110 , loss = 501.0800\n",
      "epoch 120 , loss = 455.5526\n",
      "epoch 130 , loss = 422.3590\n",
      "epoch 140 , loss = 398.1467\n",
      "epoch 150 , loss = 380.4782\n",
      "epoch 160 , loss = 367.5798\n",
      "epoch 170 , loss = 358.1604\n",
      "epoch 180 , loss = 351.2796\n",
      "epoch 190 , loss = 346.2516\n",
      "epoch 200 , loss = 342.5767\n"
     ]
    },
    {
     "data": {
      "text/plain": [
       "[<matplotlib.lines.Line2D at 0x1dd75bd6610>]"
      ]
     },
     "execution_count": 47,
     "metadata": {},
     "output_type": "execute_result"
    },
    {
     "data": {
      "image/png": "[encoded data removed]",
      "text/plain": [
       "<Figure size 432x288 with 1 Axes>"
      ]
     },
     "metadata": {
      "needs_background": "light"
     },
     "output_type": "display_data"
    }
   ],
   "source": [
    "# 1- Model\n",
    "model=nn.Linear(input_size,output_size)\n",
    "#initialize weights and bias to zero\n",
    "model.weight.data.fill_(0.0)\n",
    "model.bias.data.fill_(0.0)\n",
    "\n",
    "\n",
    "# 2- Loss and optimizer\n",
    "loss_fn=nn.MSELoss()\n",
    "optimizer=torch.optim.SGD(model.parameters(),lr=0.01)\n",
    "\n",
    "#3 - Training Loop\n",
    "num_epochs=200\n",
    "\n",
    "for epoch in range(num_epochs):\n",
    "    #forward pass and calculate loss\n",
    "    y_pred=model(X)\n",
    "    loss_val=loss_fn(y,y_pred)\n",
    "    \n",
    "    #backward loss\n",
    "    loss_val.backward()\n",
    "    \n",
    "    #update weights\n",
    "    optimizer.step()\n",
    "    optimizer.zero_grad()\n",
    "    \n",
    "    if (epoch+1) % 10 == 0:\n",
    "        print(f\"epoch {epoch+1} , loss = {loss_val.item():.4f}\")\n",
    "        \n",
    "predicted=model(X).detach().numpy()\n",
    "plt.plot(X_numpy,y_numpy,\"ro\")\n",
    "plt.plot(X_numpy,predicted,\"b\")\n",
    "        \n",
    "    "
   ]
  },
  {
   "cell_type": "code",
   "execution_count": 45,
   "id": "d98b9fc2",
   "metadata": {},
   "outputs": [
    {
     "data": {
      "text/plain": [
       "Parameter containing:\n",
       "tensor([[78.9809]], requires_grad=True)"
      ]
     },
     "execution_count": 45,
     "metadata": {},
     "output_type": "execute_result"
    }
   ],
   "source": [
    "model.weight*"
   ]
  },
  {
   "cell_type": "code",
   "execution_count": 48,
   "id": "b78816ba",
   "metadata": {},
   "outputs": [
    {
     "data": {
      "text/plain": [
       "Parameter containing:\n",
       "tensor([4.5550], requires_grad=True)"
      ]
     },
     "execution_count": 48,
     "metadata": {},
     "output_type": "execute_result"
    }
   ],
   "source": [
    "model.bias"
   ]
  },
  {
   "cell_type": "code",
   "execution_count": null,
   "id": "e514bfbb",
   "metadata": {},
   "outputs": [],
   "source": []
  }
 ],
 "metadata": {
  "kernelspec": {
   "display_name": "Python 3 (ipykernel)",
   "language": "python",
   "name": "python3"
  },
  "language_info": {
   "codemirror_mode": {
    "name": "ipython",
    "version": 3
   },
   "file_extension": ".py",
   "mimetype": "text/x-python",
   "name": "python",
   "nbconvert_exporter": "python",
   "pygments_lexer": "ipython3",
   "version": "3.9.12"
  }
 },
 "nbformat": 4,
 "nbformat_minor": 5
}
