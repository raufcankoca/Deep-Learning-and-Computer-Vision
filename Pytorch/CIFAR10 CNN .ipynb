{
 "cells": [
  {
   "cell_type": "markdown",
   "id": "6f5ed420",
   "metadata": {},
   "source": [
    "# Import libraries"
   ]
  },
  {
   "cell_type": "code",
   "execution_count": 34,
   "id": "4bb06b4f",
   "metadata": {},
   "outputs": [],
   "source": [
    "import torch\n",
    "import torchvision.transforms as transforms\n",
    "import torch.nn as nn\n",
    "import torchvision.datasets as datasets\n",
    "from skimage import io\n",
    "import numpy as np\n",
    "from skimage.transform import rescale, resize, downscale_local_mean\n",
    "import time\n",
    "from PIL import Image\n",
    "from torch.autograd import Variable\n",
    "import random\n",
    "import matplotlib.pyplot as plt"
   ]
  },
  {
   "cell_type": "code",
   "execution_count": 35,
   "id": "e2c16928",
   "metadata": {},
   "outputs": [
    {
     "data": {
      "text/plain": [
       "True"
      ]
     },
     "execution_count": 35,
     "metadata": {},
     "output_type": "execute_result"
    }
   ],
   "source": [
    "torch.cuda.is_available()"
   ]
  },
  {
   "cell_type": "code",
   "execution_count": 36,
   "id": "fc08ceeb",
   "metadata": {
    "scrolled": false
   },
   "outputs": [],
   "source": [
    "# torch.cuda.memory_summary(device=0, abbreviated=False)"
   ]
  },
  {
   "cell_type": "code",
   "execution_count": 37,
   "id": "096a3b79",
   "metadata": {},
   "outputs": [],
   "source": [
    "torch.cuda.empty_cache()"
   ]
  },
  {
   "cell_type": "markdown",
   "id": "f966fb37",
   "metadata": {},
   "source": [
    "# Parameters"
   ]
  },
  {
   "cell_type": "code",
   "execution_count": 38,
   "id": "1dc7b481",
   "metadata": {},
   "outputs": [],
   "source": [
    "input_size=784     #Number of input neurons(image pixels)\n",
    "hidden_size=400    #Number of hidden neurons\n",
    "out_size=10        #Number of classes(0-90\n",
    "epochs=20          #How many times we pass our entire dataset into our network\n",
    "batch_size=100    #Her bir iterasyonda alınan data sayısı\n",
    "learning_rate=0.01"
   ]
  },
  {
   "cell_type": "markdown",
   "id": "56cd2b76",
   "metadata": {},
   "source": [
    "# Download the Dataset"
   ]
  },
  {
   "cell_type": "code",
   "execution_count": 39,
   "id": "a4fb4045",
   "metadata": {},
   "outputs": [
    {
     "name": "stdout",
     "output_type": "stream",
     "text": [
      "Files already downloaded and verified\n"
     ]
    }
   ],
   "source": [
    "# Prepare the transform structures to apply dataset\n",
    "\n",
    "# To apply the transformation,we'll use standardization\n",
    "# Standardization is a normalization technique which makes the mean to zero and std to 1.\n",
    "\n",
    "# The mean and std of the dataset is known before.\n",
    "\n",
    "\n",
    "transforms=transforms.Compose([transforms.ToTensor(),\n",
    "                              transforms.Normalize((0.5,0.5,0.5),(0.5,0.5,0.5))])\n",
    "\n",
    "# Download the dataset\n",
    "\n",
    "train_dataset=datasets.CIFAR10(root='./cifar10',\n",
    "                            train=True,\n",
    "                            transform=transforms,\n",
    "                            download=True)\n",
    "\n",
    "test_dataset=datasets.CIFAR10(root='./cifar10',\n",
    "                           train=False,\n",
    "                           transform=transforms)\n",
    "\n",
    "\n"
   ]
  },
  {
   "cell_type": "code",
   "execution_count": 40,
   "id": "2b116200",
   "metadata": {},
   "outputs": [],
   "source": [
    "classes=('plane','car','bird','cat','deer','dog',\n",
    "        'frog','horse','ship','truck')"
   ]
  },
  {
   "cell_type": "code",
   "execution_count": 41,
   "id": "6ca44284",
   "metadata": {},
   "outputs": [
    {
     "data": {
      "text/plain": [
       "'plane'"
      ]
     },
     "execution_count": 41,
     "metadata": {},
     "output_type": "execute_result"
    }
   ],
   "source": [
    "classes[0]"
   ]
  },
  {
   "cell_type": "code",
   "execution_count": 42,
   "id": "745c3289",
   "metadata": {},
   "outputs": [
    {
     "data": {
      "text/plain": [
       "Dataset CIFAR10\n",
       "    Number of datapoints: 50000\n",
       "    Root location: ./cifar10\n",
       "    Split: Train\n",
       "    StandardTransform\n",
       "Transform: Compose(\n",
       "               ToTensor()\n",
       "               Normalize(mean=(0.5, 0.5, 0.5), std=(0.5, 0.5, 0.5))\n",
       "           )"
      ]
     },
     "execution_count": 42,
     "metadata": {},
     "output_type": "execute_result"
    }
   ],
   "source": [
    "train_dataset"
   ]
  },
  {
   "cell_type": "code",
   "execution_count": 10,
   "id": "46ee8ffe",
   "metadata": {},
   "outputs": [
    {
     "data": {
      "text/plain": [
       "StandardTransform\n",
       "Transform: Compose(\n",
       "               ToTensor()\n",
       "               Normalize(mean=(0.5, 0.5, 0.5), std=(0.5, 0.5, 0.5))\n",
       "           )"
      ]
     },
     "execution_count": 10,
     "metadata": {},
     "output_type": "execute_result"
    }
   ],
   "source": [
    "train_dataset.transforms"
   ]
  },
  {
   "cell_type": "code",
   "execution_count": 11,
   "id": "29a2a252",
   "metadata": {},
   "outputs": [
    {
     "data": {
      "text/plain": [
       "array([[[[ 59,  62,  63],\n",
       "         [ 43,  46,  45],\n",
       "         [ 50,  48,  43],\n",
       "         ...,\n",
       "         [158, 132, 108],\n",
       "         [152, 125, 102],\n",
       "         [148, 124, 103]],\n",
       "\n",
       "        [[ 16,  20,  20],\n",
       "         [  0,   0,   0],\n",
       "         [ 18,   8,   0],\n",
       "         ...,\n",
       "         [123,  88,  55],\n",
       "         [119,  83,  50],\n",
       "         [122,  87,  57]],\n",
       "\n",
       "        [[ 25,  24,  21],\n",
       "         [ 16,   7,   0],\n",
       "         [ 49,  27,   8],\n",
       "         ...,\n",
       "         [118,  84,  50],\n",
       "         [120,  84,  50],\n",
       "         [109,  73,  42]],\n",
       "\n",
       "        ...,\n",
       "\n",
       "        [[208, 170,  96],\n",
       "         [201, 153,  34],\n",
       "         [198, 161,  26],\n",
       "         ...,\n",
       "         [160, 133,  70],\n",
       "         [ 56,  31,   7],\n",
       "         [ 53,  34,  20]],\n",
       "\n",
       "        [[180, 139,  96],\n",
       "         [173, 123,  42],\n",
       "         [186, 144,  30],\n",
       "         ...,\n",
       "         [184, 148,  94],\n",
       "         [ 97,  62,  34],\n",
       "         [ 83,  53,  34]],\n",
       "\n",
       "        [[177, 144, 116],\n",
       "         [168, 129,  94],\n",
       "         [179, 142,  87],\n",
       "         ...,\n",
       "         [216, 184, 140],\n",
       "         [151, 118,  84],\n",
       "         [123,  92,  72]]],\n",
       "\n",
       "\n",
       "       [[[154, 177, 187],\n",
       "         [126, 137, 136],\n",
       "         [105, 104,  95],\n",
       "         ...,\n",
       "         [ 91,  95,  71],\n",
       "         [ 87,  90,  71],\n",
       "         [ 79,  81,  70]],\n",
       "\n",
       "        [[140, 160, 169],\n",
       "         [145, 153, 154],\n",
       "         [125, 125, 118],\n",
       "         ...,\n",
       "         [ 96,  99,  78],\n",
       "         [ 77,  80,  62],\n",
       "         [ 71,  73,  61]],\n",
       "\n",
       "        [[140, 155, 164],\n",
       "         [139, 146, 149],\n",
       "         [115, 115, 112],\n",
       "         ...,\n",
       "         [ 79,  82,  64],\n",
       "         [ 68,  70,  55],\n",
       "         [ 67,  69,  55]],\n",
       "\n",
       "        ...,\n",
       "\n",
       "        [[175, 167, 166],\n",
       "         [156, 154, 160],\n",
       "         [154, 160, 170],\n",
       "         ...,\n",
       "         [ 42,  34,  36],\n",
       "         [ 61,  53,  57],\n",
       "         [ 93,  83,  91]],\n",
       "\n",
       "        [[165, 154, 128],\n",
       "         [156, 152, 130],\n",
       "         [159, 161, 142],\n",
       "         ...,\n",
       "         [103,  93,  96],\n",
       "         [123, 114, 120],\n",
       "         [131, 121, 131]],\n",
       "\n",
       "        [[163, 148, 120],\n",
       "         [158, 148, 122],\n",
       "         [163, 156, 133],\n",
       "         ...,\n",
       "         [143, 133, 139],\n",
       "         [143, 134, 142],\n",
       "         [143, 133, 144]]],\n",
       "\n",
       "\n",
       "       [[[255, 255, 255],\n",
       "         [253, 253, 253],\n",
       "         [253, 253, 253],\n",
       "         ...,\n",
       "         [253, 253, 253],\n",
       "         [253, 253, 253],\n",
       "         [253, 253, 253]],\n",
       "\n",
       "        [[255, 255, 255],\n",
       "         [255, 255, 255],\n",
       "         [255, 255, 255],\n",
       "         ...,\n",
       "         [255, 255, 255],\n",
       "         [255, 255, 255],\n",
       "         [255, 255, 255]],\n",
       "\n",
       "        [[255, 255, 255],\n",
       "         [254, 254, 254],\n",
       "         [254, 254, 254],\n",
       "         ...,\n",
       "         [254, 254, 254],\n",
       "         [254, 254, 254],\n",
       "         [254, 254, 254]],\n",
       "\n",
       "        ...,\n",
       "\n",
       "        [[113, 120, 112],\n",
       "         [111, 118, 111],\n",
       "         [105, 112, 106],\n",
       "         ...,\n",
       "         [ 72,  81,  80],\n",
       "         [ 72,  80,  79],\n",
       "         [ 72,  80,  79]],\n",
       "\n",
       "        [[111, 118, 110],\n",
       "         [104, 111, 104],\n",
       "         [ 99, 106,  98],\n",
       "         ...,\n",
       "         [ 68,  75,  73],\n",
       "         [ 70,  76,  75],\n",
       "         [ 78,  84,  82]],\n",
       "\n",
       "        [[106, 113, 105],\n",
       "         [ 99, 106,  98],\n",
       "         [ 95, 102,  94],\n",
       "         ...,\n",
       "         [ 78,  85,  83],\n",
       "         [ 79,  85,  83],\n",
       "         [ 80,  86,  84]]],\n",
       "\n",
       "\n",
       "       ...,\n",
       "\n",
       "\n",
       "       [[[ 35, 178, 235],\n",
       "         [ 40, 176, 239],\n",
       "         [ 42, 176, 241],\n",
       "         ...,\n",
       "         [ 99, 177, 219],\n",
       "         [ 79, 147, 197],\n",
       "         [ 89, 148, 189]],\n",
       "\n",
       "        [[ 57, 182, 234],\n",
       "         [ 44, 184, 250],\n",
       "         [ 50, 183, 240],\n",
       "         ...,\n",
       "         [156, 182, 200],\n",
       "         [141, 177, 206],\n",
       "         [116, 149, 175]],\n",
       "\n",
       "        [[ 98, 197, 237],\n",
       "         [ 64, 189, 252],\n",
       "         [ 69, 192, 245],\n",
       "         ...,\n",
       "         [188, 195, 206],\n",
       "         [119, 135, 147],\n",
       "         [ 61,  79,  90]],\n",
       "\n",
       "        ...,\n",
       "\n",
       "        [[ 73,  79,  77],\n",
       "         [ 53,  63,  68],\n",
       "         [ 54,  68,  80],\n",
       "         ...,\n",
       "         [ 17,  40,  64],\n",
       "         [ 21,  36,  51],\n",
       "         [ 33,  48,  49]],\n",
       "\n",
       "        [[ 61,  68,  75],\n",
       "         [ 55,  70,  86],\n",
       "         [ 57,  79, 103],\n",
       "         ...,\n",
       "         [ 24,  48,  72],\n",
       "         [ 17,  35,  53],\n",
       "         [  7,  23,  32]],\n",
       "\n",
       "        [[ 44,  56,  73],\n",
       "         [ 46,  66,  88],\n",
       "         [ 49,  77, 105],\n",
       "         ...,\n",
       "         [ 27,  52,  77],\n",
       "         [ 21,  43,  66],\n",
       "         [ 12,  31,  50]]],\n",
       "\n",
       "\n",
       "       [[[189, 211, 240],\n",
       "         [186, 208, 236],\n",
       "         [185, 207, 235],\n",
       "         ...,\n",
       "         [175, 195, 224],\n",
       "         [172, 194, 222],\n",
       "         [169, 194, 220]],\n",
       "\n",
       "        [[194, 210, 239],\n",
       "         [191, 207, 236],\n",
       "         [190, 206, 235],\n",
       "         ...,\n",
       "         [173, 192, 220],\n",
       "         [171, 191, 218],\n",
       "         [167, 190, 216]],\n",
       "\n",
       "        [[208, 219, 244],\n",
       "         [205, 216, 240],\n",
       "         [204, 215, 239],\n",
       "         ...,\n",
       "         [175, 191, 217],\n",
       "         [172, 190, 216],\n",
       "         [169, 191, 215]],\n",
       "\n",
       "        ...,\n",
       "\n",
       "        [[207, 199, 181],\n",
       "         [203, 195, 175],\n",
       "         [203, 196, 173],\n",
       "         ...,\n",
       "         [135, 132, 127],\n",
       "         [162, 158, 150],\n",
       "         [168, 163, 151]],\n",
       "\n",
       "        [[198, 190, 170],\n",
       "         [189, 181, 159],\n",
       "         [180, 172, 147],\n",
       "         ...,\n",
       "         [178, 171, 160],\n",
       "         [175, 169, 156],\n",
       "         [175, 169, 154]],\n",
       "\n",
       "        [[198, 189, 173],\n",
       "         [189, 181, 162],\n",
       "         [178, 170, 149],\n",
       "         ...,\n",
       "         [195, 184, 169],\n",
       "         [196, 189, 171],\n",
       "         [195, 190, 171]]],\n",
       "\n",
       "\n",
       "       [[[229, 229, 239],\n",
       "         [236, 237, 247],\n",
       "         [234, 236, 247],\n",
       "         ...,\n",
       "         [217, 219, 233],\n",
       "         [221, 223, 234],\n",
       "         [222, 223, 233]],\n",
       "\n",
       "        [[222, 221, 229],\n",
       "         [239, 239, 249],\n",
       "         [233, 234, 246],\n",
       "         ...,\n",
       "         [223, 223, 236],\n",
       "         [227, 228, 238],\n",
       "         [210, 211, 220]],\n",
       "\n",
       "        [[213, 206, 211],\n",
       "         [234, 232, 239],\n",
       "         [231, 233, 244],\n",
       "         ...,\n",
       "         [220, 220, 232],\n",
       "         [220, 219, 232],\n",
       "         [202, 203, 215]],\n",
       "\n",
       "        ...,\n",
       "\n",
       "        [[150, 143, 135],\n",
       "         [140, 135, 127],\n",
       "         [132, 127, 120],\n",
       "         ...,\n",
       "         [224, 222, 218],\n",
       "         [230, 228, 225],\n",
       "         [241, 241, 238]],\n",
       "\n",
       "        [[137, 132, 126],\n",
       "         [130, 127, 120],\n",
       "         [125, 121, 115],\n",
       "         ...,\n",
       "         [181, 180, 178],\n",
       "         [202, 201, 198],\n",
       "         [212, 211, 207]],\n",
       "\n",
       "        [[122, 119, 114],\n",
       "         [118, 116, 110],\n",
       "         [120, 116, 111],\n",
       "         ...,\n",
       "         [179, 177, 173],\n",
       "         [164, 164, 162],\n",
       "         [163, 163, 161]]]], dtype=uint8)"
      ]
     },
     "execution_count": 11,
     "metadata": {},
     "output_type": "execute_result"
    }
   ],
   "source": [
    "train_dataset.data #It shows the original data"
   ]
  },
  {
   "cell_type": "code",
   "execution_count": 12,
   "id": "f7544564",
   "metadata": {},
   "outputs": [
    {
     "data": {
      "text/plain": [
       "(50000, 10000)"
      ]
     },
     "execution_count": 12,
     "metadata": {},
     "output_type": "execute_result"
    }
   ],
   "source": [
    "len(train_dataset),len(test_dataset)"
   ]
  },
  {
   "cell_type": "code",
   "execution_count": 13,
   "id": "a12d9493",
   "metadata": {},
   "outputs": [
    {
     "data": {
      "text/plain": [
       "tensor([[[ 0.2000,  0.3647,  0.2157,  ..., -0.0431,  0.0824, -0.2392],\n",
       "         [ 0.2549,  0.2863,  0.1765,  ...,  0.0745,  0.2549, -0.1922],\n",
       "         [ 0.0980,  0.1529,  0.0667,  ..., -0.1843, -0.0196, -0.2706],\n",
       "         ...,\n",
       "         [ 0.3725,  0.3333,  0.3333,  ...,  0.5137,  0.5451,  0.5608],\n",
       "         [ 0.3647,  0.3569,  0.3412,  ...,  0.5686,  0.5843,  0.6314],\n",
       "         [ 0.3176,  0.2863,  0.3020,  ...,  0.6000,  0.6000,  0.6157]],\n",
       "\n",
       "        [[ 0.2314,  0.4118,  0.2941,  ..., -0.0196,  0.1216, -0.2078],\n",
       "         [ 0.2784,  0.3333,  0.2471,  ...,  0.0588,  0.2627, -0.1451],\n",
       "         [ 0.1216,  0.1922,  0.1373,  ..., -0.1922,  0.0039, -0.2000],\n",
       "         ...,\n",
       "         [ 0.3882,  0.3490,  0.3490,  ...,  0.5922,  0.6157,  0.6000],\n",
       "         [ 0.3882,  0.3804,  0.3647,  ...,  0.6314,  0.6392,  0.6627],\n",
       "         [ 0.3569,  0.3255,  0.3412,  ...,  0.6392,  0.6314,  0.6471]],\n",
       "\n",
       "        [[ 0.2157,  0.4745,  0.3490,  ..., -0.0353,  0.1059, -0.2392],\n",
       "         [ 0.2941,  0.4118,  0.3255,  ...,  0.0118,  0.2314, -0.1608],\n",
       "         [ 0.1529,  0.3020,  0.2392,  ..., -0.2235, -0.0196, -0.2078],\n",
       "         ...,\n",
       "         [ 0.4039,  0.3647,  0.3647,  ...,  0.6627,  0.6784,  0.6706],\n",
       "         [ 0.4196,  0.4118,  0.3961,  ...,  0.6941,  0.7098,  0.7333],\n",
       "         [ 0.4118,  0.3725,  0.3882,  ...,  0.7020,  0.7020,  0.7176]]])"
      ]
     },
     "execution_count": 13,
     "metadata": {},
     "output_type": "execute_result"
    }
   ],
   "source": [
    "train_dataset[20][0] # It is converted into tensor"
   ]
  },
  {
   "cell_type": "code",
   "execution_count": 14,
   "id": "9d57a00c",
   "metadata": {},
   "outputs": [
    {
     "data": {
      "text/plain": [
       "4"
      ]
     },
     "execution_count": 14,
     "metadata": {},
     "output_type": "execute_result"
    }
   ],
   "source": [
    "train_dataset[20][1]"
   ]
  },
  {
   "cell_type": "markdown",
   "id": "d79512f6",
   "metadata": {},
   "source": [
    "# Visualize random image"
   ]
  },
  {
   "cell_type": "code",
   "execution_count": 15,
   "id": "cf7b8f4b",
   "metadata": {},
   "outputs": [
    {
     "name": "stdout",
     "output_type": "stream",
     "text": [
      "random_img.size(): torch.Size([3, 32, 32])\n",
      "random_img.shape np.array:  (32, 32, 3)\n"
     ]
    },
    {
     "data": {
      "text/plain": [
       "<matplotlib.image.AxesImage at 0x20a55d8d040>"
      ]
     },
     "execution_count": 15,
     "metadata": {},
     "output_type": "execute_result"
    },
    {
     "data": {
      "image/png": "[encoded data removed]",
      "text/plain": [
       "<Figure size 432x288 with 1 Axes>"
      ]
     },
     "metadata": {
      "needs_background": "light"
     },
     "output_type": "display_data"
    }
   ],
   "source": [
    "import matplotlib.pyplot as plt\n",
    "\n",
    "def imshow(img):\n",
    "    img = img / 2 + 0.5     # unnormalize\n",
    "    npimg = img.numpy()\n",
    "    plt.imshow(np.transpose(npimg, (1, 2, 0)))\n",
    "    plt.show()\n",
    "\n",
    "random_num=random.randint(0,len(train_dataset))\n",
    "\n",
    "random_img=train_dataset[random_num][0]\n",
    "print('random_img.size():',random_img.size())\n",
    "random_img_label=train_dataset[random_num][1]\n",
    "\n",
    "#To show the image , convert torch.tensor to np.array\n",
    "\n",
    "random_img=random_img.numpy()*0.5+0.5\n",
    "\n",
    "#Numpy array read the images as (H x W x Ch)\n",
    "#random_img=np.reshape(random_img,(32,32,3))\n",
    "random_img=np.transpose(random_img, (1, 2, 0))\n",
    "\n",
    "print('random_img.shape np.array: ',random_img.shape)\n",
    "\n",
    "plt.xlabel(\"Class: \"+str(random_img_label))\n",
    "plt.imshow(random_img)\n"
   ]
  },
  {
   "cell_type": "markdown",
   "id": "f55785ca",
   "metadata": {},
   "source": [
    "# Load the Dataset"
   ]
  },
  {
   "cell_type": "code",
   "execution_count": 43,
   "id": "800cbb5d",
   "metadata": {},
   "outputs": [],
   "source": [
    "train_loader=torch.utils.data.DataLoader(dataset=train_dataset,\n",
    "                                        batch_size=batch_size,\n",
    "                                        shuffle=True)\n",
    "\n",
    "test_loader=torch.utils.data.DataLoader(dataset=test_dataset,\n",
    "                                       batch_size=batch_size,\n",
    "                                       shuffle=True)"
   ]
  },
  {
   "cell_type": "code",
   "execution_count": 44,
   "id": "d6eea4b3",
   "metadata": {},
   "outputs": [
    {
     "data": {
      "text/plain": [
       "(500, 100)"
      ]
     },
     "execution_count": 44,
     "metadata": {},
     "output_type": "execute_result"
    }
   ],
   "source": [
    "len(train_loader),len(test_loader)"
   ]
  },
  {
   "cell_type": "markdown",
   "id": "38830b64",
   "metadata": {},
   "source": [
    "# Visualize random image with batches"
   ]
  },
  {
   "cell_type": "code",
   "execution_count": 21,
   "id": "5dc43cf3",
   "metadata": {},
   "outputs": [
    {
     "data": {
      "text/plain": [
       "'\\nplt.figure(figsize=(48,20))\\n\\nfor i in range(batch_size):\\n    plt.subplot(10,10,i+1)\\n    t_loader=iter(train_loader)  #t_loader.next().size() -> (100,1,28,28)\\n    \\n    images,labels=t_loader.next()\\n\\n\\n    img=images[i] #i between 0-100 except 100\\n    label=labels[i].item()\\n    \\n    #Convert tensor to np.array to show\\n    img=img.numpy()*stddev_gray+mean_gray\\n    img=np.reshape(img,(28,28))\\n    \\n    plt.ylabel(\"Number \"+str(label))\\n    plt.imshow(img,cmap=\"gray\")\\n\\nprint(\\'images.shape: \\',images.shape)\\nprint(\\'labels.shape: \\',labels.shape)\\n    '"
      ]
     },
     "execution_count": 21,
     "metadata": {},
     "output_type": "execute_result"
    }
   ],
   "source": [
    "\"\"\"\n",
    "plt.figure(figsize=(48,20))\n",
    "\n",
    "for i in range(batch_size):\n",
    "    plt.subplot(10,10,i+1)\n",
    "    t_loader=iter(train_loader)  #t_loader.next().size() -> (100,1,28,28)\n",
    "    \n",
    "    images,labels=t_loader.next()\n",
    "\n",
    "\n",
    "    img=images[i] #i between 0-100 except 100\n",
    "    label=labels[i].item()\n",
    "    \n",
    "    #Convert tensor to np.array to show\n",
    "    img=img.numpy()*stddev_gray+mean_gray\n",
    "    img=np.reshape(img,(28,28))\n",
    "    \n",
    "    plt.ylabel(\"Number \"+str(label))\n",
    "    plt.imshow(img,cmap=\"gray\")\n",
    "\n",
    "print('images.shape: ',images.shape)\n",
    "print('labels.shape: ',labels.shape)\n",
    "    \"\"\""
   ]
  },
  {
   "cell_type": "code",
   "execution_count": 45,
   "id": "93a3a08f",
   "metadata": {},
   "outputs": [
    {
     "data": {
      "text/plain": [
       "(torch.Size([100, 3, 32, 32]), torch.Size([100]))"
      ]
     },
     "execution_count": 45,
     "metadata": {},
     "output_type": "execute_result"
    }
   ],
   "source": [
    "t_loader=iter(train_loader)\n",
    "images,labels=t_loader.next()\n",
    "images.shape,labels.shape"
   ]
  },
  {
   "cell_type": "markdown",
   "id": "dff05ce8",
   "metadata": {},
   "source": [
    "# Build the CNN Model"
   ]
  },
  {
   "cell_type": "code",
   "execution_count": 46,
   "id": "afd077d0",
   "metadata": {},
   "outputs": [],
   "source": [
    "from torchsummary import summary\n",
    "import torch.nn.functional as F"
   ]
  },
  {
   "cell_type": "code",
   "execution_count": 1,
   "id": "49bd1536",
   "metadata": {},
   "outputs": [
    {
     "ename": "NameError",
     "evalue": "name 'images' is not defined",
     "output_type": "error",
     "traceback": [
      "\u001b[1;31m---------------------------------------------------------------------------\u001b[0m",
      "\u001b[1;31mNameError\u001b[0m                                 Traceback (most recent call last)",
      "Input \u001b[1;32mIn [1]\u001b[0m, in \u001b[0;36m<cell line: 1>\u001b[1;34m()\u001b[0m\n\u001b[1;32m----> 1\u001b[0m \u001b[38;5;28mprint\u001b[39m(\u001b[43mimages\u001b[49m\u001b[38;5;241m.\u001b[39mshape)\n\u001b[0;32m      2\u001b[0m conv2d\u001b[38;5;241m=\u001b[39mnn\u001b[38;5;241m.\u001b[39mConv2d(\u001b[38;5;241m3\u001b[39m,\u001b[38;5;241m8\u001b[39m,kernel_size\u001b[38;5;241m=\u001b[39m\u001b[38;5;241m3\u001b[39m,padding\u001b[38;5;241m=\u001b[39m\u001b[38;5;241m1\u001b[39m) \u001b[38;5;66;03m#stride default=0,pad default=0\u001b[39;00m\n\u001b[0;32m      3\u001b[0m y\u001b[38;5;241m=\u001b[39mconv2d(images)\n",
      "\u001b[1;31mNameError\u001b[0m: name 'images' is not defined"
     ]
    }
   ],
   "source": [
    "print(images.shape)\n",
    "conv2d=nn.Conv2d(3,8,kernel_size=3,padding=1) #stride default=0,pad default=0\n",
    "y=conv2d(images)\n",
    "print(y.shape)\n",
    "\n",
    "batchnorm=nn.BatchNorm2d(8)\n",
    "y=batchnorm(y)\n",
    "print(y.shape)\n",
    "\n",
    "maxpool=nn.MaxPool2d(kernel_size=2)\n",
    "y=maxpool(y)\n",
    "print(y.shape)\n",
    "\n",
    "conv2d=nn.Conv2d(8,32,kernel_size=5,stride=1,padding=2)\n",
    "y=conv2d(y)\n",
    "print(y.shape)\n",
    "\n",
    "batchnorm=nn.BatchNorm2d(32)\n",
    "y=batchnorm(y)\n",
    "print(y.shape)\n",
    "\n",
    "maxpool=nn.MaxPool2d(kernel_size=2)\n",
    "y=maxpool(y)\n",
    "print(y.shape)\n",
    "\n",
    "y=y.view(-1,y.size(1)*y.size(2)*y.size(3))\n",
    "print(y.shape)\n",
    "\n",
    "y.flatten().shape\n",
    "\n"
   ]
  },
  {
   "cell_type": "code",
   "execution_count": 48,
   "id": "28b808c5",
   "metadata": {},
   "outputs": [],
   "source": [
    "class CNN_Model(nn.Module):\n",
    "    def __init__(self):\n",
    "        super(CNN_Model,self).__init__()\n",
    "        \n",
    "        self.conv1=nn.Conv2d(in_channels=3,out_channels=8,kernel_size=3,padding=1,stride=1)\n",
    "        self.batchNorm=nn.BatchNorm2d(num_features=8)\n",
    "        self.maxPool=nn.MaxPool2d(kernel_size=2)\n",
    "        \n",
    "        self.conv2=nn.Conv2d(in_channels=8,out_channels=32,kernel_size=5,padding=2,stride=1)\n",
    "        self.batchNorm2=nn.BatchNorm2d(num_features=32)\n",
    "        \n",
    "        self.fc1=nn.Linear(in_features=32*8*8,out_features=200)\n",
    "        self.dropout=nn.Dropout(0.5)\n",
    "        self.fc2=nn.Linear(in_features=200,out_features=10)\n",
    "\n",
    "        \n",
    "    \n",
    "    def forward(self,x):\n",
    "        inp=self.conv1(x)\n",
    "        x=F.relu(self.batchNorm(inp))\n",
    "        x=self.maxPool(x)\n",
    "        \n",
    "        x=self.conv2(x)\n",
    "        x=F.relu(self.batchNorm2(x))\n",
    "        x=self.maxPool(x)\n",
    "        \n",
    "        x=x.view(-1,32*8*8)\n",
    "        \n",
    "        x=F.relu(self.fc1(x))\n",
    "        x=self.dropout(x)\n",
    "        \n",
    "        x=self.fc2(x)\n",
    "        \n",
    "        return x\n",
    "        \n",
    "        "
   ]
  },
  {
   "cell_type": "markdown",
   "id": "4f6e4516",
   "metadata": {},
   "source": [
    "# Select GPU and extract the model"
   ]
  },
  {
   "cell_type": "code",
   "execution_count": 49,
   "id": "470f067a",
   "metadata": {
    "scrolled": true
   },
   "outputs": [
    {
     "data": {
      "text/plain": [
       "CNN_Model(\n",
       "  (conv1): Conv2d(3, 8, kernel_size=(3, 3), stride=(1, 1), padding=(1, 1))\n",
       "  (batchNorm): BatchNorm2d(8, eps=1e-05, momentum=0.1, affine=True, track_running_stats=True)\n",
       "  (maxPool): MaxPool2d(kernel_size=2, stride=2, padding=0, dilation=1, ceil_mode=False)\n",
       "  (conv2): Conv2d(8, 32, kernel_size=(5, 5), stride=(1, 1), padding=(2, 2))\n",
       "  (batchNorm2): BatchNorm2d(32, eps=1e-05, momentum=0.1, affine=True, track_running_stats=True)\n",
       "  (fc1): Linear(in_features=2048, out_features=200, bias=True)\n",
       "  (dropout): Dropout(p=0.5, inplace=False)\n",
       "  (fc2): Linear(in_features=200, out_features=10, bias=True)\n",
       ")"
      ]
     },
     "execution_count": 49,
     "metadata": {},
     "output_type": "execute_result"
    }
   ],
   "source": [
    "device=torch.device('cuda' if torch.cuda.is_available() else 'cpu')\n",
    "model=CNN_Model().to(torch.device(device))\n",
    "\n",
    "model"
   ]
  },
  {
   "cell_type": "code",
   "execution_count": 50,
   "id": "ad98ce8b",
   "metadata": {},
   "outputs": [
    {
     "name": "stdout",
     "output_type": "stream",
     "text": [
      "Conv2d(3, 8, kernel_size=(3, 3), stride=(1, 1), padding=(1, 1))\n",
      "Conv2d(8, 32, kernel_size=(5, 5), stride=(1, 1), padding=(2, 2))\n",
      "torch.Size([8, 3, 3, 3])\n",
      "torch.Size([32, 8, 5, 5])\n"
     ]
    }
   ],
   "source": [
    "print(model.conv1)\n",
    "print(model.conv2)\n",
    "print(model.conv1.weight.shape) # input->1 filtre-out->8 tane filtre ve 3 x 3 kernel\n",
    "print(model.conv2.weight.shape) # input->8 filtre-out->32 tane filtre ve 5 x 5 kernel\n",
    "\n"
   ]
  },
  {
   "cell_type": "code",
   "execution_count": 51,
   "id": "61e7ca37",
   "metadata": {
    "scrolled": false
   },
   "outputs": [
    {
     "name": "stdout",
     "output_type": "stream",
     "text": [
      "----------------------------------------------------------------\n",
      "        Layer (type)               Output Shape         Param #\n",
      "================================================================\n",
      "            Conv2d-1            [-1, 8, 32, 32]             224\n",
      "       BatchNorm2d-2            [-1, 8, 32, 32]              16\n",
      "         MaxPool2d-3            [-1, 8, 16, 16]               0\n",
      "            Conv2d-4           [-1, 32, 16, 16]           6,432\n",
      "       BatchNorm2d-5           [-1, 32, 16, 16]              64\n",
      "         MaxPool2d-6             [-1, 32, 8, 8]               0\n",
      "            Linear-7                  [-1, 200]         409,800\n",
      "           Dropout-8                  [-1, 200]               0\n",
      "            Linear-9                   [-1, 10]           2,010\n",
      "================================================================\n",
      "Total params: 418,546\n",
      "Trainable params: 418,546\n",
      "Non-trainable params: 0\n",
      "----------------------------------------------------------------\n",
      "Input size (MB): 0.01\n",
      "Forward/backward pass size (MB): 0.28\n",
      "Params size (MB): 1.60\n",
      "Estimated Total Size (MB): 1.89\n",
      "----------------------------------------------------------------\n"
     ]
    }
   ],
   "source": [
    "summary(model,(3,32,32))"
   ]
  },
  {
   "cell_type": "code",
   "execution_count": 29,
   "id": "fe4acf0d",
   "metadata": {},
   "outputs": [
    {
     "name": "stdout",
     "output_type": "stream",
     "text": [
      "torch.Size([8, 3, 3, 3])\n"
     ]
    }
   ],
   "source": [
    "for m in model.parameters():\n",
    "    print(m.size())\n",
    "    break"
   ]
  },
  {
   "cell_type": "markdown",
   "id": "8cdfdd7f",
   "metadata": {},
   "source": [
    "# Select loss fn and optimizer"
   ]
  },
  {
   "cell_type": "code",
   "execution_count": 52,
   "id": "69f8bf5a",
   "metadata": {},
   "outputs": [],
   "source": [
    "loss_fn=nn.CrossEntropyLoss()\n",
    "optimizer=torch.optim.Adam(model.parameters(),lr=learning_rate)"
   ]
  },
  {
   "cell_type": "markdown",
   "id": "09ea665a",
   "metadata": {},
   "source": [
    "# Training the Model"
   ]
  },
  {
   "cell_type": "code",
   "execution_count": 53,
   "id": "19a4f925",
   "metadata": {},
   "outputs": [
    {
     "name": "stdout",
     "output_type": "stream",
     "text": [
      "Epoch 1/20, Training Loss: 2.202, Training Acc: 17.100, Testing Loss: 1.881,Testing Acc: 29.890\n",
      "Epoch 2/20, Training Loss: 1.473, Training Acc: 44.060, Testing Loss: 1.314,Testing Acc: 52.170\n",
      "Epoch 3/20, Training Loss: 1.217, Training Acc: 55.852, Testing Loss: 1.219,Testing Acc: 56.210\n",
      "Epoch 4/20, Training Loss: 1.127, Training Acc: 59.422, Testing Loss: 1.124,Testing Acc: 59.550\n",
      "Epoch 5/20, Training Loss: 1.065, Training Acc: 61.784, Testing Loss: 1.112,Testing Acc: 59.810\n",
      "Epoch 6/20, Training Loss: 1.025, Training Acc: 63.424, Testing Loss: 1.098,Testing Acc: 61.130\n",
      "Epoch 7/20, Training Loss: 0.985, Training Acc: 64.754, Testing Loss: 1.110,Testing Acc: 61.610\n",
      "Epoch 8/20, Training Loss: 0.957, Training Acc: 65.942, Testing Loss: 1.112,Testing Acc: 61.210\n",
      "Epoch 9/20, Training Loss: 0.935, Training Acc: 66.664, Testing Loss: 1.067,Testing Acc: 62.290\n",
      "Epoch 10/20, Training Loss: 0.919, Training Acc: 67.156, Testing Loss: 1.082,Testing Acc: 62.900\n",
      "Epoch 11/20, Training Loss: 0.894, Training Acc: 67.994, Testing Loss: 1.076,Testing Acc: 62.940\n",
      "Epoch 12/20, Training Loss: 0.881, Training Acc: 68.462, Testing Loss: 1.118,Testing Acc: 61.520\n",
      "Epoch 13/20, Training Loss: 0.868, Training Acc: 69.150, Testing Loss: 1.058,Testing Acc: 63.500\n",
      "Epoch 14/20, Training Loss: 0.858, Training Acc: 69.248, Testing Loss: 1.052,Testing Acc: 63.740\n",
      "Epoch 15/20, Training Loss: 0.849, Training Acc: 69.418, Testing Loss: 1.072,Testing Acc: 63.460\n",
      "Epoch 16/20, Training Loss: 0.840, Training Acc: 69.894, Testing Loss: 1.073,Testing Acc: 62.920\n",
      "Epoch 17/20, Training Loss: 0.825, Training Acc: 70.278, Testing Loss: 1.071,Testing Acc: 63.330\n",
      "Epoch 18/20, Training Loss: 0.825, Training Acc: 70.604, Testing Loss: 1.108,Testing Acc: 63.050\n",
      "Epoch 19/20, Training Loss: 0.812, Training Acc: 70.944, Testing Loss: 1.082,Testing Acc: 63.750\n",
      "Epoch 20/20, Training Loss: 0.808, Training Acc: 71.084, Testing Loss: 1.128,Testing Acc: 62.340\n",
      "Training Duration: 327.94202971458435\n"
     ]
    }
   ],
   "source": [
    "import time\n",
    "\n",
    "start=time.time()\n",
    "\n",
    "train_loss=[]\n",
    "train_acc=[]\n",
    "test_loss=[]\n",
    "test_acc=[]\n",
    "\n",
    "for epoch in range(epochs):\n",
    "    n_correct=0\n",
    "    batch_loss=0.0\n",
    "    batch_iter=0\n",
    "    \n",
    "    for i,(images,labels) in enumerate(train_loader):\n",
    "        # Select the device to process\n",
    "        images=images.to(device)\n",
    "        labels=labels.to(device)\n",
    "        \n",
    "        # Forward pass - prediction\n",
    "        output=model(images)\n",
    "        \n",
    "        # Compute loss value\n",
    "        loss_val=loss_fn(output,labels)\n",
    "        batch_loss+=loss_val.item()\n",
    "        \n",
    "        # Set zero the gradients of the optimizer\n",
    "        optimizer.zero_grad()\n",
    "        \n",
    "        # Backward pass\n",
    "        loss_val.backward()\n",
    "        \n",
    "        # Update weights \n",
    "        optimizer.step()\n",
    "        \n",
    "        # Get predicted results\n",
    "        _,pred=torch.max(output,1)\n",
    "        n_correct+=(pred==labels).sum().item()\n",
    "        \n",
    "        batch_iter+=1\n",
    "        \n",
    "    train_loss.append(batch_loss/batch_iter)\n",
    "    train_acc.append(100*n_correct/len(train_dataset))\n",
    "    \n",
    "    \n",
    "    # Testing process\n",
    "    \n",
    "    n_correct=0\n",
    "    batch_loss=0.0\n",
    "    batch_iter=0\n",
    "        \n",
    "    model.eval()\n",
    "        \n",
    "    with torch.no_grad():\n",
    "        for i,(images,labels) in enumerate(test_loader):\n",
    "            images=images.to(device)\n",
    "            labels=labels.to(device)\n",
    "\n",
    "            #Forward pass - prediction\n",
    "            output=model(images)\n",
    "\n",
    "            #Compute loss value\n",
    "            loss_val=loss_fn(output,labels)\n",
    "            batch_loss+=loss_val.item()\n",
    "\n",
    "            #Get predicted results\n",
    "            _,pred=torch.max(output,1)\n",
    "            n_correct+=(pred==labels).sum().item()\n",
    "\n",
    "            batch_iter+=1\n",
    "\n",
    "        test_loss.append(batch_loss/batch_iter)\n",
    "        test_acc.append(100*n_correct/len(test_dataset))\n",
    "    \n",
    "        print(\"Epoch {}/{}, Training Loss: {:.3f}, Training Acc: {:.3f}, Testing Loss: {:.3f},Testing Acc: {:.3f}\".format(\n",
    "                epoch+1,epochs,train_loss[-1],train_acc[-1],test_loss[-1],test_acc[-1]))  \n",
    "            \n",
    "        \n",
    "end=time.time()        \n",
    "print(\"Training Duration:\",end-start)\n",
    "    \n",
    "    \n",
    "        "
   ]
  },
  {
   "cell_type": "markdown",
   "id": "84cc4593",
   "metadata": {},
   "source": [
    "# Plotting the loss"
   ]
  },
  {
   "cell_type": "code",
   "execution_count": 54,
   "id": "10eb1eff",
   "metadata": {},
   "outputs": [
    {
     "data": {
      "image/png": "[encoded data removed]",
      "text/plain": [
       "<Figure size 720x720 with 1 Axes>"
      ]
     },
     "metadata": {
      "needs_background": "light"
     },
     "output_type": "display_data"
    }
   ],
   "source": [
    "#Plotting the loss\n",
    "f=plt.figure(figsize=(10,10))\n",
    "plt.plot(train_loss,label=\"Training Loss\")\n",
    "plt.plot(test_loss,label=\"Testing Loss\")\n",
    "plt.legend()\n",
    "plt.show()\n"
   ]
  },
  {
   "cell_type": "code",
   "execution_count": 55,
   "id": "d18b46ad",
   "metadata": {
    "scrolled": false
   },
   "outputs": [
    {
     "data": {
      "image/png": "[encoded data removed]",
      "text/plain": [
       "<Figure size 720x720 with 1 Axes>"
      ]
     },
     "metadata": {
      "needs_background": "light"
     },
     "output_type": "display_data"
    }
   ],
   "source": [
    "#Plotting the accuracy\n",
    "f=plt.figure(figsize=(10,10))\n",
    "plt.plot(train_acc,label=\"Training Accuracy\")\n",
    "plt.plot(test_acc,label=\"Testing Accuracy\")\n",
    "plt.legend()\n",
    "plt.show()\n"
   ]
  },
  {
   "cell_type": "markdown",
   "id": "1b8ae345",
   "metadata": {},
   "source": [
    "# Save the Model"
   ]
  },
  {
   "cell_type": "code",
   "execution_count": null,
   "id": "9f769d60",
   "metadata": {},
   "outputs": [],
   "source": [
    "torch.save(model,\"myModel.pth\")\n",
    "\n",
    "# Save only the weights\n",
    "torch.save(model.state_dict(),\"myModel_weights.pth\")"
   ]
  },
  {
   "cell_type": "markdown",
   "id": "5fe84cf2",
   "metadata": {},
   "source": [
    "# Load the Model"
   ]
  },
  {
   "cell_type": "code",
   "execution_count": null,
   "id": "f1bb5459",
   "metadata": {},
   "outputs": [],
   "source": [
    "model=torch.load(\"myModel.pth\")\n",
    "model.eval()\n",
    "\n",
    "# 2.yol\n",
    "model=CNN_Model()\n",
    "model.load_state_dict(torch.load(\"myModel.pth\"))\n",
    "model.eval()\n"
   ]
  },
  {
   "cell_type": "code",
   "execution_count": null,
   "id": "56e4bbb1",
   "metadata": {},
   "outputs": [],
   "source": []
  },
  {
   "cell_type": "code",
   "execution_count": null,
   "id": "bdb3e3f5",
   "metadata": {},
   "outputs": [],
   "source": []
  }
 ],
 "metadata": {
  "kernelspec": {
   "display_name": "Python 3 (ipykernel)",
   "language": "python",
   "name": "python3"
  },
  "language_info": {
   "codemirror_mode": {
    "name": "ipython",
    "version": 3
   },
   "file_extension": ".py",
   "mimetype": "text/x-python",
   "name": "python",
   "nbconvert_exporter": "python",
   "pygments_lexer": "ipython3",
   "version": "3.9.12"
  }
 },
 "nbformat": 4,
 "nbformat_minor": 5
}
