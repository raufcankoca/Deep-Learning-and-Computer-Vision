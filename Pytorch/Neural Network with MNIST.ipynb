{
 "cells": [
  {
   "cell_type": "markdown",
   "id": "4cfc89f1",
   "metadata": {},
   "source": [
    "# Import libraries"
   ]
  },
  {
   "cell_type": "code",
   "execution_count": 1,
   "id": "55b0c962",
   "metadata": {},
   "outputs": [],
   "source": [
    "import torch\n",
    "import torchvision.transforms as transforms\n",
    "import torch.nn as nn\n",
    "import torchvision.datasets as datasets\n",
    "from skimage import io\n",
    "import numpy as np\n",
    "from skimage.transform import rescale, resize, downscale_local_mean\n",
    "import time\n",
    "from PIL import Image\n",
    "from torch.autograd import Variable\n",
    "import random\n"
   ]
  },
  {
   "cell_type": "markdown",
   "id": "40d15a21",
   "metadata": {},
   "source": [
    "# Parameters"
   ]
  },
  {
   "cell_type": "code",
   "execution_count": 2,
   "id": "0e28a124",
   "metadata": {},
   "outputs": [],
   "source": [
    "input_size=784     #Number of input neurons(image pixels)\n",
    "hidden_size=400    #Number of hidden neurons\n",
    "out_size=10        #Number of classes(0-90\n",
    "epochs=20          #How many times we pass our entire dataset into our network\n",
    "batch_size=100     #Her bir iterasyonda alınan data sayısı\n",
    "learning_rate=0.01"
   ]
  },
  {
   "cell_type": "markdown",
   "id": "397b104a",
   "metadata": {},
   "source": [
    "# Download the Dataset"
   ]
  },
  {
   "cell_type": "code",
   "execution_count": 3,
   "id": "274f5e45",
   "metadata": {},
   "outputs": [],
   "source": [
    "# Prepare the transform structures to apply dataset\n",
    "\n",
    "# To apply the transformation,we'll use standardization\n",
    "# Standardization is a normalization technique which makes the mean to zero and std to 1.\n",
    "\n",
    "# The mean and std of the dataset is known before.\n",
    "mean_gray=0.1307\n",
    "stddev_gray=0.3081\n",
    "\n",
    "transforms=transforms.Compose([transforms.ToTensor(),\n",
    "                              transforms.Normalize((mean_gray),(stddev_gray))])\n",
    "\n",
    "# Download the dataset\n",
    "\n",
    "train_dataset=datasets.MNIST(root='./data',\n",
    "                            train=True,\n",
    "                            transform=transforms,\n",
    "                            download=True)\n",
    "\n",
    "test_dataset=datasets.MNIST(root='./data',\n",
    "                           train=False,\n",
    "                           transform=transforms)\n"
   ]
  },
  {
   "cell_type": "markdown",
   "id": "9c0d3c65",
   "metadata": {},
   "source": [
    "# Informations about Dataset"
   ]
  },
  {
   "cell_type": "code",
   "execution_count": 4,
   "id": "c5f28aef",
   "metadata": {},
   "outputs": [
    {
     "data": {
      "text/plain": [
       "Dataset MNIST\n",
       "    Number of datapoints: 60000\n",
       "    Root location: ./data\n",
       "    Split: Train\n",
       "    StandardTransform\n",
       "Transform: Compose(\n",
       "               ToTensor()\n",
       "               Normalize(mean=0.1307, std=0.3081)\n",
       "           )"
      ]
     },
     "execution_count": 4,
     "metadata": {},
     "output_type": "execute_result"
    }
   ],
   "source": [
    "train_dataset"
   ]
  },
  {
   "cell_type": "code",
   "execution_count": 5,
   "id": "db6e94fd",
   "metadata": {},
   "outputs": [
    {
     "data": {
      "text/plain": [
       "StandardTransform\n",
       "Transform: Compose(\n",
       "               ToTensor()\n",
       "               Normalize(mean=0.1307, std=0.3081)\n",
       "           )"
      ]
     },
     "execution_count": 5,
     "metadata": {},
     "output_type": "execute_result"
    }
   ],
   "source": [
    "train_dataset.transforms"
   ]
  },
  {
   "cell_type": "code",
   "execution_count": 6,
   "id": "585bbce8",
   "metadata": {},
   "outputs": [
    {
     "data": {
      "text/plain": [
       "torch.Size([60000, 28, 28])"
      ]
     },
     "execution_count": 6,
     "metadata": {},
     "output_type": "execute_result"
    }
   ],
   "source": [
    "train_dataset.data.size()"
   ]
  },
  {
   "cell_type": "code",
   "execution_count": 7,
   "id": "6f017707",
   "metadata": {},
   "outputs": [
    {
     "data": {
      "text/plain": [
       "(60000, 10000)"
      ]
     },
     "execution_count": 7,
     "metadata": {},
     "output_type": "execute_result"
    }
   ],
   "source": [
    "len(train_dataset),len(test_dataset)"
   ]
  },
  {
   "cell_type": "markdown",
   "id": "d91112e4",
   "metadata": {},
   "source": [
    "# Visualize random image"
   ]
  },
  {
   "cell_type": "code",
   "execution_count": 8,
   "id": "a0531445",
   "metadata": {},
   "outputs": [
    {
     "name": "stdout",
     "output_type": "stream",
     "text": [
      "random_img.size(): torch.Size([1, 28, 28])\n",
      "random_img.shape np.array:  (28, 28)\n"
     ]
    },
    {
     "data": {
      "text/plain": [
       "<matplotlib.image.AxesImage at 0x1bab5e990a0>"
      ]
     },
     "execution_count": 8,
     "metadata": {},
     "output_type": "execute_result"
    },
    {
     "data": {
      "image/png": "[encoded data removed]",
      "text/plain": [
       "<Figure size 432x288 with 1 Axes>"
      ]
     },
     "metadata": {
      "needs_background": "light"
     },
     "output_type": "display_data"
    }
   ],
   "source": [
    "import matplotlib.pyplot as plt\n",
    "\n",
    "random_num=random.randint(0,train_dataset.data.size(0))\n",
    "\n",
    "random_img=train_dataset[random_num][0]\n",
    "print('random_img.size():',random_img.size())\n",
    "random_img_label=train_dataset[random_num][1]\n",
    "\n",
    "#To show the image , convert torch.tensor to np.array\n",
    "\n",
    "random_img=random_img.numpy()*stddev_gray+mean_gray\n",
    "\n",
    "#Numpy array read the images as (H x W x Ch)\n",
    "random_img=np.reshape(random_img,(28,28))\n",
    "\n",
    "print('random_img.shape np.array: ',random_img.shape)\n",
    "\n",
    "plt.xlabel(\"Class: \"+str(random_img_label))\n",
    "plt.imshow(random_img,cmap=\"gray\")\n"
   ]
  },
  {
   "cell_type": "markdown",
   "id": "a05f021a",
   "metadata": {},
   "source": [
    "# Load the Dataset"
   ]
  },
  {
   "cell_type": "code",
   "execution_count": 9,
   "id": "cab3b4c6",
   "metadata": {},
   "outputs": [],
   "source": [
    "train_loader=torch.utils.data.DataLoader(dataset=train_dataset,\n",
    "                                        batch_size=batch_size,\n",
    "                                        shuffle=True)\n",
    "\n",
    "test_loader=torch.utils.data.DataLoader(dataset=test_dataset,\n",
    "                                       batch_size=batch_size,\n",
    "                                       shuffle=True)\n"
   ]
  },
  {
   "cell_type": "code",
   "execution_count": 10,
   "id": "d619f019",
   "metadata": {},
   "outputs": [
    {
     "data": {
      "text/plain": [
       "(600, 100)"
      ]
     },
     "execution_count": 10,
     "metadata": {},
     "output_type": "execute_result"
    }
   ],
   "source": [
    "# batch_size=100\n",
    "#60000/100=600 , #10000/100=100\n",
    "len(train_loader),len(test_loader)"
   ]
  },
  {
   "cell_type": "markdown",
   "id": "7b20ddef",
   "metadata": {},
   "source": [
    "# Visualize random image with batches"
   ]
  },
  {
   "cell_type": "code",
   "execution_count": 11,
   "id": "307c7c83",
   "metadata": {},
   "outputs": [
    {
     "data": {
      "text/plain": [
       "'\\nplt.figure(figsize=(48,20))\\n\\nfor i in range(batch_size):\\n    plt.subplot(10,10,i+1)\\n    t_loader=iter(train_loader)  #t_loader.next().size() -> (100,1,28,28)\\n    \\n    images,labels=t_loader.next()\\n\\n\\n    img=images[i] #i between 0-100 except 100\\n    label=labels[i].item()\\n    \\n    #Convert tensor to np.array to show\\n    img=img.numpy()*stddev_gray+mean_gray\\n    img=np.reshape(img,(28,28))\\n    \\n    plt.ylabel(\"Number \"+str(label))\\n    plt.imshow(img,cmap=\"gray\")\\n\\nprint(\\'images.shape: \\',images.shape)\\nprint(\\'labels.shape: \\',labels.shape)\\n    '"
      ]
     },
     "execution_count": 11,
     "metadata": {},
     "output_type": "execute_result"
    }
   ],
   "source": [
    "\"\"\"\n",
    "plt.figure(figsize=(48,20))\n",
    "\n",
    "for i in range(batch_size):\n",
    "    plt.subplot(10,10,i+1)\n",
    "    t_loader=iter(train_loader)  #t_loader.next().size() -> (100,1,28,28)\n",
    "    \n",
    "    images,labels=t_loader.next()\n",
    "\n",
    "\n",
    "    img=images[i] #i between 0-100 except 100\n",
    "    label=labels[i].item()\n",
    "    \n",
    "    #Convert tensor to np.array to show\n",
    "    img=img.numpy()*stddev_gray+mean_gray\n",
    "    img=np.reshape(img,(28,28))\n",
    "    \n",
    "    plt.ylabel(\"Number \"+str(label))\n",
    "    plt.imshow(img,cmap=\"gray\")\n",
    "\n",
    "print('images.shape: ',images.shape)\n",
    "print('labels.shape: ',labels.shape)\n",
    "    \"\"\"\n",
    "    "
   ]
  },
  {
   "cell_type": "code",
   "execution_count": 12,
   "id": "e390cabe",
   "metadata": {},
   "outputs": [
    {
     "data": {
      "text/plain": [
       "(torch.Size([100, 1, 28, 28]), torch.Size([100]))"
      ]
     },
     "execution_count": 12,
     "metadata": {},
     "output_type": "execute_result"
    }
   ],
   "source": [
    "t_loader=iter(train_loader)\n",
    "images,labels=t_loader.next()\n",
    "images.shape,labels.shape"
   ]
  },
  {
   "cell_type": "markdown",
   "id": "237b358c",
   "metadata": {},
   "source": [
    "# Build the Model"
   ]
  },
  {
   "cell_type": "code",
   "execution_count": 13,
   "id": "120ee881",
   "metadata": {},
   "outputs": [
    {
     "name": "stdout",
     "output_type": "stream",
     "text": [
      "torch.Size([100, 1, 28, 28])\n",
      "torch.Size([100, 8, 28, 28])\n",
      "torch.Size([100, 8, 28, 28])\n",
      "torch.Size([100, 8, 14, 14])\n",
      "torch.Size([100, 32, 14, 14])\n",
      "torch.Size([100, 32, 14, 14])\n",
      "torch.Size([100, 32, 7, 7])\n",
      "torch.Size([100, 1568])\n"
     ]
    },
    {
     "data": {
      "text/plain": [
       "torch.Size([156800])"
      ]
     },
     "execution_count": 13,
     "metadata": {},
     "output_type": "execute_result"
    }
   ],
   "source": [
    "print(images.shape)\n",
    "conv2d=nn.Conv2d(1,8,kernel_size=3,padding=1) #stride default=0,pad default=0\n",
    "y=conv2d(images)\n",
    "print(y.shape)\n",
    "\n",
    "batchnorm=nn.BatchNorm2d(8)\n",
    "y=batchnorm(y)\n",
    "print(y.shape)\n",
    "\n",
    "maxpool=nn.MaxPool2d(kernel_size=2)\n",
    "y=maxpool(y)\n",
    "print(y.shape)\n",
    "\n",
    "conv2d=nn.Conv2d(8,32,kernel_size=5,stride=1,padding=2)\n",
    "y=conv2d(y)\n",
    "print(y.shape)\n",
    "\n",
    "batchnorm=nn.BatchNorm2d(32)\n",
    "y=batchnorm(y)\n",
    "print(y.shape)\n",
    "\n",
    "maxpool=nn.MaxPool2d(kernel_size=2)\n",
    "y=maxpool(y)\n",
    "print(y.shape)\n",
    "\n",
    "y=y.view(-1,y.size(1)*y.size(2)*y.size(3))\n",
    "print(y.shape)\n",
    "\n",
    "y.flatten().shape\n",
    "\n"
   ]
  },
  {
   "cell_type": "code",
   "execution_count": 14,
   "id": "762ac29b",
   "metadata": {},
   "outputs": [
    {
     "data": {
      "text/plain": [
       "'\\n    def initialize_weights(self):\\n        for m in self.modules():\\n            if isinstance(m,nn.Linear):\\n                nn.init.constant_(m.weight,0)\\n                nn.init.constant_(m.bias,0)\\n                '"
      ]
     },
     "execution_count": 14,
     "metadata": {},
     "output_type": "execute_result"
    }
   ],
   "source": [
    "class CNN_Model(nn.Module):\n",
    "    def __init__(self):\n",
    "        super(CNN_Model,self).__init__()\n",
    "        \n",
    "        self.conv1=nn.Conv2d(in_channels=1,out_channels=8,kernel_size=3,padding=1,stride=1)\n",
    "        self.batchNorm=nn.BatchNorm2d(num_features=8)\n",
    "        self.relu=nn.ReLU()\n",
    "        self.maxPool=nn.MaxPool2d(kernel_size=2)\n",
    "        \n",
    "        self.conv2=nn.Conv2d(in_channels=8,out_channels=32,kernel_size=5,padding=2,stride=1)\n",
    "        self.batchNorm2=nn.BatchNorm2d(num_features=32)\n",
    "        self.maxPool2=nn.MaxPool2d(kernel_size=2)\n",
    "        \n",
    "        \n",
    "        self.fc1=nn.Linear(in_features=32*7*7,out_features=600)\n",
    "        self.dropout=nn.Dropout(p=0.5)\n",
    "        self.fc2=nn.Linear(in_features=600,out_features=10)\n",
    "        \n",
    "        #Initialize weights and bias to zero\n",
    "        \n",
    "        \n",
    "    def forward(self,x):\n",
    "        \n",
    "        inp=self.conv1(x)\n",
    "        x=self.batchNorm(inp)\n",
    "        x=self.relu(x)\n",
    "        x=self.maxPool(x)\n",
    "        \n",
    "        x=self.conv2(x)\n",
    "        x=self.batchNorm2(x)\n",
    "        x=self.relu(x)\n",
    "        x=self.maxPool2(x)\n",
    "        \n",
    "        x=x.view(-1,32*7*7)\n",
    "        \n",
    "        x=self.fc1(x)\n",
    "        \n",
    "        x=self.relu(x)\n",
    "        x=self.dropout(x)\n",
    "        \n",
    "        x=self.fc2(x)\n",
    "        \n",
    "        return x\n",
    "        \n",
    "\n",
    "\"\"\"\n",
    "    def initialize_weights(self):\n",
    "        for m in self.modules():\n",
    "            if isinstance(m,nn.Linear):\n",
    "                nn.init.constant_(m.weight,0)\n",
    "                nn.init.constant_(m.bias,0)\n",
    "                \"\"\"\n",
    "                \n",
    "        \n",
    "        "
   ]
  },
  {
   "cell_type": "markdown",
   "id": "f9072616",
   "metadata": {},
   "source": [
    "# Select GPU and extract the model"
   ]
  },
  {
   "cell_type": "code",
   "execution_count": 15,
   "id": "f82a5164",
   "metadata": {},
   "outputs": [],
   "source": [
    "device=torch.device('cuda' if torch.cuda.is_available() else 'cpu')\n",
    "model=CNN_Model()\n",
    "model=model.to(device)\n"
   ]
  },
  {
   "cell_type": "code",
   "execution_count": null,
   "id": "27a5ad6d",
   "metadata": {},
   "outputs": [],
   "source": []
  },
  {
   "cell_type": "code",
   "execution_count": 16,
   "id": "51928589",
   "metadata": {
    "scrolled": true
   },
   "outputs": [
    {
     "name": "stdout",
     "output_type": "stream",
     "text": [
      "CNN_Model(\n",
      "  (conv1): Conv2d(1, 8, kernel_size=(3, 3), stride=(1, 1), padding=(1, 1))\n",
      "  (batchNorm): BatchNorm2d(8, eps=1e-05, momentum=0.1, affine=True, track_running_stats=True)\n",
      "  (relu): ReLU()\n",
      "  (maxPool): MaxPool2d(kernel_size=2, stride=2, padding=0, dilation=1, ceil_mode=False)\n",
      "  (conv2): Conv2d(8, 32, kernel_size=(5, 5), stride=(1, 1), padding=(2, 2))\n",
      "  (batchNorm2): BatchNorm2d(32, eps=1e-05, momentum=0.1, affine=True, track_running_stats=True)\n",
      "  (maxPool2): MaxPool2d(kernel_size=2, stride=2, padding=0, dilation=1, ceil_mode=False)\n",
      "  (fc1): Linear(in_features=1568, out_features=600, bias=True)\n",
      "  (dropout): Dropout(p=0.5, inplace=False)\n",
      "  (fc2): Linear(in_features=600, out_features=10, bias=True)\n",
      ")\n",
      "Conv2d(1, 8, kernel_size=(3, 3), stride=(1, 1), padding=(1, 1))\n",
      "BatchNorm2d(8, eps=1e-05, momentum=0.1, affine=True, track_running_stats=True)\n",
      "ReLU()\n",
      "MaxPool2d(kernel_size=2, stride=2, padding=0, dilation=1, ceil_mode=False)\n",
      "Conv2d(8, 32, kernel_size=(5, 5), stride=(1, 1), padding=(2, 2))\n",
      "BatchNorm2d(32, eps=1e-05, momentum=0.1, affine=True, track_running_stats=True)\n",
      "MaxPool2d(kernel_size=2, stride=2, padding=0, dilation=1, ceil_mode=False)\n",
      "Linear(in_features=1568, out_features=600, bias=True)\n",
      "Dropout(p=0.5, inplace=False)\n",
      "Linear(in_features=600, out_features=10, bias=True)\n"
     ]
    }
   ],
   "source": [
    "for m in model.modules(): \n",
    "    print(m)"
   ]
  },
  {
   "cell_type": "code",
   "execution_count": 17,
   "id": "0625f1a1",
   "metadata": {},
   "outputs": [
    {
     "data": {
      "text/plain": [
       "Parameter containing:\n",
       "tensor([[ 0.0141, -0.0033, -0.0054,  ...,  0.0174,  0.0204, -0.0189],\n",
       "        [ 0.0203,  0.0177,  0.0243,  ...,  0.0160,  0.0213,  0.0252],\n",
       "        [-0.0205, -0.0078,  0.0145,  ...,  0.0135, -0.0129,  0.0112],\n",
       "        ...,\n",
       "        [ 0.0146, -0.0192,  0.0173,  ..., -0.0079, -0.0189,  0.0128],\n",
       "        [ 0.0023,  0.0223, -0.0029,  ..., -0.0050,  0.0199,  0.0214],\n",
       "        [-0.0060,  0.0165, -0.0179,  ..., -0.0220, -0.0098,  0.0104]],\n",
       "       device='cuda:0', requires_grad=True)"
      ]
     },
     "execution_count": 17,
     "metadata": {},
     "output_type": "execute_result"
    }
   ],
   "source": [
    "model.fc1.weight"
   ]
  },
  {
   "cell_type": "code",
   "execution_count": 18,
   "id": "a694f6d7",
   "metadata": {},
   "outputs": [
    {
     "data": {
      "text/plain": [
       "Parameter containing:\n",
       "tensor([-9.0563e-03, -8.2611e-03, -2.9319e-03,  2.4646e-03, -1.3067e-03,\n",
       "        -1.8145e-02,  8.7194e-03, -1.3646e-02,  1.1308e-02, -1.9445e-02,\n",
       "         1.5277e-02,  1.0669e-02, -8.8263e-04,  1.7343e-02,  1.8808e-02,\n",
       "        -1.0533e-02, -1.6943e-03, -2.6654e-03, -2.2756e-02,  1.4503e-03,\n",
       "         1.3694e-02, -2.1809e-02,  2.2662e-02, -2.3843e-02, -1.4777e-02,\n",
       "         1.5940e-02,  1.9470e-02, -1.8748e-02,  1.3427e-02, -1.7091e-02,\n",
       "        -8.7866e-03, -3.5324e-03, -1.2821e-02,  3.8435e-03, -1.9684e-02,\n",
       "         1.8750e-02,  1.5518e-02,  1.6514e-02, -6.2272e-03, -2.9470e-03,\n",
       "        -3.5586e-03,  3.6268e-03,  2.1928e-04, -5.6169e-03,  5.4488e-03,\n",
       "         1.0778e-02, -2.0247e-02,  1.4515e-02,  2.4707e-02,  1.0268e-02,\n",
       "        -1.5074e-02,  4.8552e-03, -2.4419e-02, -1.1573e-02, -1.2298e-02,\n",
       "         1.8090e-02, -2.0798e-02,  1.7640e-02, -7.7471e-04,  2.3276e-02,\n",
       "         7.0376e-04,  1.5103e-02,  3.2125e-03, -4.7701e-03,  5.8550e-03,\n",
       "         1.4078e-02,  1.8957e-02, -1.4460e-02,  2.2731e-02,  2.1657e-02,\n",
       "         2.2575e-02, -2.2347e-02, -1.8121e-02,  2.4457e-02,  9.4796e-03,\n",
       "        -1.2605e-02, -2.1909e-02,  1.7848e-02,  1.3417e-02, -1.9155e-02,\n",
       "         3.9021e-03,  1.8160e-02,  2.4635e-02, -1.7298e-02, -1.7142e-02,\n",
       "        -2.3016e-02,  1.7131e-02, -1.7714e-02, -1.6494e-02,  1.9842e-02,\n",
       "         6.7717e-03, -2.1945e-02, -1.8298e-02, -2.4487e-02, -1.1648e-02,\n",
       "        -7.5049e-03, -1.9472e-02,  1.5301e-03, -1.0107e-02,  1.0210e-02,\n",
       "         2.2804e-02, -2.1434e-02, -6.7895e-04, -1.5859e-02,  2.1162e-02,\n",
       "        -3.8101e-03,  1.3048e-03, -2.0002e-02,  2.4585e-02, -7.7890e-03,\n",
       "         1.5924e-02, -1.7564e-02,  1.8298e-02, -2.3738e-02,  1.3253e-03,\n",
       "         1.3532e-02,  1.8718e-02, -1.4448e-02,  2.0925e-02, -1.9512e-02,\n",
       "         1.7559e-02,  7.0957e-03,  2.0705e-02, -2.2076e-02, -2.2112e-02,\n",
       "         8.1201e-03, -6.0390e-03,  3.4641e-03,  2.3656e-02, -1.4513e-02,\n",
       "         7.9859e-03,  3.0911e-03,  5.4678e-03,  5.1808e-03,  5.8993e-03,\n",
       "        -1.2542e-02, -9.4665e-03, -1.1544e-02, -1.8400e-02,  2.2347e-02,\n",
       "         1.9123e-02,  2.1210e-03,  1.0010e-02,  1.5353e-02, -5.8873e-04,\n",
       "        -1.3609e-02,  6.1246e-03,  9.8123e-03,  1.3562e-02, -1.6933e-02,\n",
       "         2.5735e-03, -1.2706e-02,  7.4543e-03,  1.2578e-02, -5.4357e-03,\n",
       "        -1.3262e-02, -1.1954e-02,  1.4712e-02,  2.3830e-02,  1.7830e-02,\n",
       "         1.4678e-02, -5.9879e-03, -1.6709e-02, -1.6206e-02, -2.2838e-02,\n",
       "         1.8755e-02,  5.8684e-03, -8.6362e-03, -2.9471e-03,  7.0524e-03,\n",
       "         6.3616e-03,  2.2960e-02, -1.1623e-03, -2.7709e-04,  1.2347e-02,\n",
       "        -2.0139e-02, -4.2507e-03,  2.2963e-02, -1.0652e-02,  2.1538e-02,\n",
       "        -1.8497e-02, -1.7547e-02,  1.2085e-02, -1.0568e-03,  1.8406e-02,\n",
       "         1.3777e-02, -8.5483e-03,  2.0450e-02, -3.1591e-03, -1.2621e-02,\n",
       "         2.4875e-03, -4.3784e-03, -2.3024e-03,  1.2355e-02, -1.5684e-02,\n",
       "        -2.4355e-02,  1.4600e-02,  2.3349e-02,  1.2438e-02,  2.1023e-02,\n",
       "        -1.1861e-03, -6.2610e-03, -1.0915e-02,  1.7166e-02,  1.0350e-02,\n",
       "         2.9796e-03, -9.4277e-03, -3.2573e-03, -7.8857e-03, -7.0575e-03,\n",
       "        -2.7220e-03,  1.2701e-02,  1.8971e-02,  1.2153e-02, -2.2325e-02,\n",
       "        -9.7908e-03, -1.7617e-02, -2.0891e-02, -4.1144e-03, -2.3330e-02,\n",
       "         1.1155e-02,  1.3461e-02, -9.6290e-03, -5.2277e-05,  3.8997e-03,\n",
       "         1.3307e-02,  1.1561e-02, -2.1347e-02, -9.0081e-03,  1.0873e-02,\n",
       "         2.2978e-02, -2.3053e-02,  1.2795e-02,  6.9364e-03, -9.6923e-03,\n",
       "        -1.9983e-02,  5.7703e-04, -1.2144e-02, -2.4363e-03, -6.7210e-03,\n",
       "        -9.4238e-03,  6.8952e-03,  1.7346e-02, -2.3014e-02, -3.2673e-03,\n",
       "        -1.4355e-03, -2.3111e-02, -4.6864e-04,  4.9149e-03, -5.2336e-03,\n",
       "         2.0414e-02, -1.7679e-02, -4.2856e-03,  2.1290e-02,  1.6028e-02,\n",
       "        -1.4415e-02,  1.1308e-02, -8.4461e-03,  2.2639e-03, -4.7479e-03,\n",
       "         9.1128e-03, -1.7252e-02, -9.5746e-03, -2.3690e-03,  6.6383e-03,\n",
       "        -6.2049e-03, -5.8455e-03,  2.0624e-02,  1.5392e-02,  1.7292e-02,\n",
       "        -1.4100e-02,  1.5432e-02, -1.4717e-02, -1.3917e-02,  4.3891e-03,\n",
       "        -1.5884e-02, -5.3000e-03,  2.5122e-02, -2.8621e-03, -9.2344e-03,\n",
       "        -2.1676e-02,  1.8359e-02,  1.1583e-02,  5.4248e-03,  3.0707e-03,\n",
       "        -8.0871e-03, -2.2470e-02,  1.6391e-02, -1.4805e-02, -9.6507e-03,\n",
       "        -3.9205e-05, -9.6344e-04,  1.1307e-02,  1.5526e-02, -1.6966e-03,\n",
       "        -1.4481e-02,  1.2284e-03, -3.7575e-03,  1.8620e-02, -1.9137e-02,\n",
       "         1.6925e-02,  1.1077e-02, -1.5131e-02, -1.9286e-02,  9.8105e-03,\n",
       "         1.4579e-02,  1.8094e-02,  1.1257e-02,  5.7340e-03, -2.1786e-02,\n",
       "         5.8624e-03,  2.1849e-02, -7.3406e-03, -5.8738e-03,  7.0921e-03,\n",
       "         1.4478e-02, -1.5782e-03, -3.1255e-03,  1.4148e-03,  2.4679e-03,\n",
       "        -2.3090e-02,  1.6165e-02, -2.1026e-02, -2.2418e-02,  1.4436e-02,\n",
       "         4.9849e-03,  1.0441e-02, -1.2987e-02,  1.2888e-02,  1.2968e-02,\n",
       "         4.0543e-03,  1.4936e-02,  1.5007e-02, -7.0294e-03,  2.0066e-02,\n",
       "         1.7187e-02,  1.4472e-02, -2.5287e-04,  1.9382e-02,  1.0418e-03,\n",
       "        -4.2714e-03,  1.3630e-02,  5.8553e-03, -1.4825e-03, -2.3392e-02,\n",
       "        -1.4904e-02, -2.3008e-03, -8.1628e-04,  4.6571e-03,  1.6113e-02,\n",
       "         1.3580e-02, -2.7387e-03,  2.1075e-02, -6.8940e-03, -1.5274e-04,\n",
       "         1.4925e-02, -2.0202e-03, -3.5556e-03, -1.1966e-03, -2.1397e-02,\n",
       "        -1.1424e-02, -4.2127e-03, -1.9971e-02,  1.1417e-02, -8.8937e-03,\n",
       "        -2.7610e-03,  1.1799e-02, -1.7640e-03,  8.8795e-03, -1.7928e-02,\n",
       "         5.9702e-03, -1.7842e-03, -1.7041e-02, -1.9564e-02, -4.6316e-03,\n",
       "         1.9570e-02, -2.0229e-02, -1.8992e-02, -3.4065e-03,  2.3831e-02,\n",
       "         2.4013e-02,  1.1547e-02, -7.5186e-03,  1.7517e-02,  1.5421e-02,\n",
       "         1.6602e-02,  6.8517e-03, -1.9246e-02, -1.3851e-02, -4.4243e-03,\n",
       "        -1.5174e-02,  1.0851e-02, -5.1422e-03,  1.0939e-02, -2.0532e-02,\n",
       "        -1.5686e-02,  1.4144e-02, -9.8562e-04, -9.8304e-03, -2.0932e-02,\n",
       "         1.5118e-04, -1.1558e-02,  2.1604e-03, -1.9884e-03, -8.4593e-03,\n",
       "         1.3526e-02, -1.1084e-02, -2.0417e-02, -1.0865e-02,  2.1028e-02,\n",
       "        -9.1433e-03,  1.5124e-02,  4.2578e-03,  4.3591e-03, -8.5635e-03,\n",
       "         6.8881e-03,  2.1199e-02,  1.5617e-02,  2.2911e-02,  2.1854e-02,\n",
       "        -1.0700e-02,  1.5252e-02, -2.2859e-02, -8.0094e-03,  1.9365e-02,\n",
       "        -1.7696e-02,  1.1972e-02, -8.0673e-03,  2.2052e-02,  5.0621e-03,\n",
       "         6.5747e-03, -1.3521e-02, -2.3123e-02,  4.3601e-03, -1.1173e-02,\n",
       "        -1.5572e-02,  1.5098e-02,  1.3387e-02,  1.4024e-02,  6.2491e-03,\n",
       "         7.2855e-04,  3.0442e-03, -1.3718e-02,  3.6072e-03, -8.6722e-03,\n",
       "        -1.9542e-02,  7.9122e-04,  2.1970e-02, -6.4219e-03,  2.1574e-02,\n",
       "         1.9756e-02,  2.5248e-02,  1.7805e-02, -1.1782e-02, -4.1163e-03,\n",
       "        -1.5974e-02, -1.2524e-02, -1.8757e-02, -2.4582e-02,  7.1433e-03,\n",
       "         1.0097e-03,  1.6441e-02,  9.7279e-04,  2.3484e-02,  2.4281e-02,\n",
       "        -2.0246e-02,  1.9257e-02, -2.1591e-02, -7.6815e-03, -1.5487e-02,\n",
       "         8.6329e-04,  1.4380e-02,  6.4824e-03, -1.8966e-03, -4.7859e-03,\n",
       "        -2.3339e-02, -2.1230e-02, -1.1545e-02, -1.6694e-02,  7.1237e-03,\n",
       "        -2.6325e-04, -8.1042e-03,  1.1713e-02,  2.3086e-02, -8.0467e-04,\n",
       "         1.2264e-03,  1.4188e-02,  1.9624e-02, -3.3805e-03, -2.1447e-02,\n",
       "         1.2715e-02,  1.8529e-02, -2.1570e-03, -4.6722e-03,  4.0551e-03,\n",
       "        -1.5483e-02, -8.6705e-03,  1.1193e-02,  2.0604e-02, -1.2134e-04,\n",
       "        -5.3873e-03, -9.7508e-03,  1.9499e-02, -1.0797e-02, -7.3273e-03,\n",
       "         6.1267e-03,  4.3303e-03,  1.1696e-02, -2.3884e-02, -7.4604e-04,\n",
       "        -2.4452e-03,  1.2173e-02, -5.1287e-03, -1.6601e-02,  1.9871e-02,\n",
       "         1.8917e-02,  7.1322e-03, -1.2312e-02,  2.3685e-02,  1.0945e-02,\n",
       "        -3.0370e-03, -1.2757e-03,  8.0849e-03, -3.3085e-03, -2.3156e-02,\n",
       "         3.6709e-03, -2.2307e-02,  2.3815e-02, -2.0374e-03, -1.8062e-02,\n",
       "        -5.6844e-03, -1.7365e-02, -1.3878e-02, -1.5250e-02, -5.7163e-03,\n",
       "        -1.5754e-02,  2.1976e-02, -2.1708e-02,  8.2919e-03,  1.6440e-02,\n",
       "         1.1398e-02,  8.5824e-04, -2.1465e-02,  1.1293e-02,  4.4805e-03,\n",
       "         2.2026e-02,  2.2378e-02, -1.5798e-02,  2.4401e-02,  2.3450e-02,\n",
       "         1.3839e-02, -2.0191e-02,  1.2974e-02, -1.4249e-02,  5.7439e-03,\n",
       "        -2.0772e-02,  1.2930e-02, -8.1911e-03, -2.2171e-03,  1.7494e-02,\n",
       "        -1.1461e-02, -2.3063e-03,  2.2995e-02,  1.4072e-02, -2.0080e-02,\n",
       "         2.3477e-03,  1.4691e-02, -9.3912e-03,  1.9999e-02,  1.3461e-02,\n",
       "        -1.7107e-02,  1.8448e-02, -2.0087e-02, -2.3172e-02, -2.3455e-02,\n",
       "         1.4291e-02, -2.8936e-03, -5.7615e-03,  1.1181e-02,  1.3517e-02,\n",
       "         1.2068e-02, -9.0258e-03, -1.6503e-02, -2.3709e-02,  3.1391e-03,\n",
       "        -1.8461e-02,  5.9424e-03, -9.4653e-03, -2.1400e-02, -8.6307e-03,\n",
       "         2.3787e-02,  1.0424e-02, -8.3415e-03, -8.7164e-03,  1.6712e-02,\n",
       "         2.5240e-02, -3.3712e-03,  1.3941e-02, -2.6229e-04,  1.2220e-02],\n",
       "       device='cuda:0', requires_grad=True)"
      ]
     },
     "execution_count": 18,
     "metadata": {},
     "output_type": "execute_result"
    }
   ],
   "source": [
    "model.fc1.bias"
   ]
  },
  {
   "cell_type": "code",
   "execution_count": 19,
   "id": "af245f00",
   "metadata": {},
   "outputs": [
    {
     "name": "stdout",
     "output_type": "stream",
     "text": [
      "Conv2d(1, 8, kernel_size=(3, 3), stride=(1, 1), padding=(1, 1))\n",
      "Conv2d(8, 32, kernel_size=(5, 5), stride=(1, 1), padding=(2, 2))\n",
      "torch.Size([8, 1, 3, 3])\n",
      "torch.Size([32, 8, 5, 5])\n"
     ]
    }
   ],
   "source": [
    "print(model.conv1)\n",
    "print(model.conv2)\n",
    "print(model.conv1.weight.shape) # input->1 filtre-out->8 tane filtre ve 3 x 3 kernel\n",
    "print(model.conv2.weight.shape) # input->8 filtre-out->32 tane filtre ve 5 x 5 kernel"
   ]
  },
  {
   "cell_type": "code",
   "execution_count": 20,
   "id": "d7ca9592",
   "metadata": {},
   "outputs": [
    {
     "name": "stdout",
     "output_type": "stream",
     "text": [
      "Linear(in_features=1568, out_features=600, bias=True)\n",
      "Linear(in_features=600, out_features=10, bias=True)\n",
      "torch.Size([600, 1568])\n",
      "torch.Size([10, 600])\n"
     ]
    }
   ],
   "source": [
    "print(model.fc1)\n",
    "print(model.fc2)\n",
    "print(model.fc1.weight.shape)\n",
    "print(model.fc2.weight.shape)"
   ]
  },
  {
   "cell_type": "markdown",
   "id": "4cd4980e",
   "metadata": {},
   "source": [
    "# Select Loss Function and Optimizer"
   ]
  },
  {
   "cell_type": "code",
   "execution_count": 21,
   "id": "e70e3124",
   "metadata": {},
   "outputs": [],
   "source": [
    "loss_fn=nn.CrossEntropyLoss()\n",
    "optimizer=torch.optim.Adam(model.parameters(),lr=learning_rate)\n"
   ]
  },
  {
   "cell_type": "markdown",
   "id": "ef338552",
   "metadata": {},
   "source": [
    "# Training the CNN Model"
   ]
  },
  {
   "cell_type": "code",
   "execution_count": 22,
   "id": "44068b6d",
   "metadata": {},
   "outputs": [
    {
     "name": "stdout",
     "output_type": "stream",
     "text": [
      "Epoch 1/20, Training Loss: 0.788, Training Acc: 77.828, Testing Loss: 0.078,Testing Acc: 97.430\n",
      "Epoch 2/20, Training Loss: 0.061, Training Acc: 98.083, Testing Loss: 0.045,Testing Acc: 98.630\n",
      "Epoch 3/20, Training Loss: 0.042, Training Acc: 98.640, Testing Loss: 0.057,Testing Acc: 98.250\n",
      "Epoch 4/20, Training Loss: 0.037, Training Acc: 98.852, Testing Loss: 0.041,Testing Acc: 98.670\n",
      "Epoch 5/20, Training Loss: 0.031, Training Acc: 99.040, Testing Loss: 0.046,Testing Acc: 98.490\n",
      "Epoch 6/20, Training Loss: 0.033, Training Acc: 98.960, Testing Loss: 0.042,Testing Acc: 98.770\n",
      "Epoch 7/20, Training Loss: 0.026, Training Acc: 99.167, Testing Loss: 0.038,Testing Acc: 98.850\n",
      "Epoch 8/20, Training Loss: 0.027, Training Acc: 99.150, Testing Loss: 0.038,Testing Acc: 98.860\n",
      "Epoch 9/20, Training Loss: 0.023, Training Acc: 99.250, Testing Loss: 0.046,Testing Acc: 98.890\n",
      "Epoch 10/20, Training Loss: 0.024, Training Acc: 99.227, Testing Loss: 0.053,Testing Acc: 98.760\n",
      "Epoch 11/20, Training Loss: 0.019, Training Acc: 99.428, Testing Loss: 0.049,Testing Acc: 98.730\n",
      "Epoch 12/20, Training Loss: 0.026, Training Acc: 99.218, Testing Loss: 0.055,Testing Acc: 98.710\n",
      "Epoch 13/20, Training Loss: 0.021, Training Acc: 99.388, Testing Loss: 0.045,Testing Acc: 98.810\n",
      "Epoch 14/20, Training Loss: 0.017, Training Acc: 99.492, Testing Loss: 0.055,Testing Acc: 98.730\n",
      "Epoch 15/20, Training Loss: 0.018, Training Acc: 99.503, Testing Loss: 0.068,Testing Acc: 98.470\n",
      "Epoch 16/20, Training Loss: 0.022, Training Acc: 99.415, Testing Loss: 0.066,Testing Acc: 98.650\n",
      "Epoch 17/20, Training Loss: 0.017, Training Acc: 99.520, Testing Loss: 0.062,Testing Acc: 98.720\n",
      "Epoch 18/20, Training Loss: 0.024, Training Acc: 99.325, Testing Loss: 0.049,Testing Acc: 99.020\n",
      "Epoch 19/20, Training Loss: 0.014, Training Acc: 99.597, Testing Loss: 0.055,Testing Acc: 98.850\n",
      "Epoch 20/20, Training Loss: 0.016, Training Acc: 99.595, Testing Loss: 0.070,Testing Acc: 98.810\n",
      "Training Duration: 313.56877064704895\n"
     ]
    }
   ],
   "source": [
    "import time\n",
    "from tqdm import tqdm\n",
    "start=time.time()\n",
    "\n",
    "train_loss=[]\n",
    "train_acc=[]\n",
    "test_loss=[]\n",
    "test_acc=[]\n",
    "\n",
    "for epoch in range(epochs):\n",
    "    n_correct=0\n",
    "    batch_iter=0\n",
    "    batch_loss=0.0\n",
    "    \n",
    "    for i,(images,labels) in enumerate(train_loader):\n",
    "        images=images.to(device)\n",
    "        labels=labels.to(device)\n",
    "        \n",
    "        #Forward pass - prediction\n",
    "        output=model(images)\n",
    "        loss_val=loss_fn(output,labels)\n",
    "        batch_loss+=loss_val.item()\n",
    "        \n",
    "        #Set zero the graidents of the optimizer\n",
    "        optimizer.zero_grad()\n",
    "        \n",
    "        #Backward pass\n",
    "        loss_val.backward()\n",
    "        \n",
    "        \n",
    "        #Update weights and bias\n",
    "        optimizer.step()\n",
    "        \n",
    "        \n",
    "        #Get predicted results\n",
    "        _,predicted=torch.max(output,1)\n",
    "        n_correct+=(predicted==labels).sum().item()\n",
    "        \n",
    "        batch_iter+=1\n",
    "        \n",
    "    train_loss.append(batch_loss/batch_iter)\n",
    "    train_acc.append(100*n_correct/len(train_dataset))\n",
    "    \n",
    "    # Testing phase\n",
    "    n_test_correct=0\n",
    "    batch_test_iter=0\n",
    "    batch_test_loss=0.0\n",
    "    \n",
    "    model.eval()\n",
    "    \n",
    "    \n",
    "    for i,(images,labels) in enumerate(test_loader):\n",
    "        images=images.to(device)\n",
    "        labels=labels.to(device)\n",
    "\n",
    "        #Forward pass\n",
    "        output=model(images)\n",
    "        loss_val=loss_fn(output,labels)\n",
    "        batch_test_loss+=loss_val.item()\n",
    "\n",
    "        # Get test_predicted results\n",
    "        _,testPred=torch.max(output,1)\n",
    "        n_test_correct+=(testPred==labels).sum().item()\n",
    "\n",
    "        batch_test_iter+=1\n",
    "        \n",
    "    test_loss.append(batch_test_loss/batch_test_iter)\n",
    "    test_acc.append(100*n_test_correct/len(test_dataset))\n",
    "        \n",
    "        \n",
    "        \n",
    "    print(\"Epoch {}/{}, Training Loss: {:.3f}, Training Acc: {:.3f}, Testing Loss: {:.3f},Testing Acc: {:.3f}\".format(\n",
    "            epoch+1,epochs,train_loss[-1],train_acc[-1],test_loss[-1],test_acc[-1]))  \n",
    "            \n",
    "        \n",
    "end=time.time()        \n",
    "print(\"Training Duration:\",end-start)\n",
    "    \n",
    "    "
   ]
  },
  {
   "cell_type": "code",
   "execution_count": 23,
   "id": "d485809c",
   "metadata": {},
   "outputs": [
    {
     "data": {
      "text/plain": [
       "<function matplotlib.pyplot.show(close=None, block=None)>"
      ]
     },
     "execution_count": 23,
     "metadata": {},
     "output_type": "execute_result"
    },
    {
     "data": {
      "image/png": "[encoded data removed]",
      "text/plain": [
       "<Figure size 720x720 with 1 Axes>"
      ]
     },
     "metadata": {
      "needs_background": "light"
     },
     "output_type": "display_data"
    }
   ],
   "source": [
    "#Plotting the loss\n",
    "f=plt.figure(figsize=(10,10))\n",
    "plt.plot(train_loss,label=\"Training Loss\")\n",
    "plt.plot(test_loss,label=\"Testing Loss\")\n",
    "plt.legend()\n",
    "plt.show\n"
   ]
  },
  {
   "cell_type": "code",
   "execution_count": 24,
   "id": "bfbb2ef2",
   "metadata": {},
   "outputs": [
    {
     "data": {
      "text/plain": [
       "<function matplotlib.pyplot.show(close=None, block=None)>"
      ]
     },
     "execution_count": 24,
     "metadata": {},
     "output_type": "execute_result"
    },
    {
     "data": {
      "image/png": "[encoded data removed]",
      "text/plain": [
       "<Figure size 720x720 with 1 Axes>"
      ]
     },
     "metadata": {
      "needs_background": "light"
     },
     "output_type": "display_data"
    }
   ],
   "source": [
    "#Plotting the accuracy\n",
    "f=plt.figure(figsize=(10,10))\n",
    "plt.plot(train_acc,label=\"Training Accuracy\")\n",
    "plt.plot(test_acc,label=\"Testing Accuracy\")\n",
    "plt.legend()\n",
    "plt.show\n"
   ]
  },
  {
   "cell_type": "markdown",
   "id": "18aa40e5",
   "metadata": {},
   "source": [
    "# Prediction any image"
   ]
  },
  {
   "cell_type": "code",
   "execution_count": 25,
   "id": "7217720f",
   "metadata": {},
   "outputs": [
    {
     "name": "stdout",
     "output_type": "stream",
     "text": [
      "Prediction is: 2\n",
      "Actual is: 2\n"
     ]
    },
    {
     "data": {
      "image/png": "[encoded data removed]",
      "text/plain": [
       "<Figure size 432x288 with 1 Axes>"
      ]
     },
     "metadata": {
      "needs_background": "light"
     },
     "output_type": "display_data"
    }
   ],
   "source": [
    "img=test_dataset[35][0].resize_((1,1,28,28))\n",
    "label=test_dataset[35][1]\n",
    "\n",
    "model.eval()\n",
    "\n",
    "img=img.cpu()\n",
    "model=model.cpu()\n",
    "\n",
    "output=model(img)\n",
    "_,pred=torch.max(output,1)\n",
    "\n",
    "#CUDA cannot convert tensor to numpy\n",
    "\n",
    "img_numpy=img.numpy()*stddev_gray+mean_gray\n",
    "img_numpy=np.reshape(img_numpy,(28,28))\n",
    "plt.imshow(img_numpy,cmap=\"gray\")\n",
    "\n",
    "print(\"Prediction is: {}\".format(pred.item()))\n",
    "print(\"Actual is: {}\".format(label))\n",
    "\n"
   ]
  },
  {
   "cell_type": "markdown",
   "id": "d6990c62",
   "metadata": {},
   "source": [
    "# Predict our image"
   ]
  },
  {
   "cell_type": "code",
   "execution_count": 26,
   "id": "baab3506",
   "metadata": {},
   "outputs": [],
   "source": [
    "import cv2"
   ]
  },
  {
   "cell_type": "code",
   "execution_count": 27,
   "id": "e65b32e1",
   "metadata": {},
   "outputs": [],
   "source": [
    "def predict(img_name,model):\n",
    "    img=cv2.imread(img_name,0)\n",
    "    ret,thresh=cv2.threshold(img,127,255,cv2.THRESH_BINARY_INV)\n",
    "    \n",
    "    img=thresh\n",
    "    \n",
    "    cv2.namedWindow(\"original\",cv2.WINDOW_NORMAL)\n",
    "    cv2.resizeWindow(\"original\",400,400)\n",
    "    cv2.imshow(\"original\",img)\n",
    "    \n",
    "    img=Image.fromarray(img)\n",
    "    img=transforms(img)\n",
    "    img=img.view((1,1,28,28))\n",
    "    img=Variable(img)\n",
    "    \n",
    "    model.eval()\n",
    "    \n",
    "    model=model.to(device)\n",
    "    img=img.to(device)\n",
    "    \n",
    "    output=model(img)\n",
    "    print(output)\n",
    "    _,pred=torch.max(output,1)\n",
    "    \n",
    "    cv2.waitKey(0)\n",
    "    cv2.destroyAllWindows()\n",
    "    \n",
    "    return pred.item()\n",
    "    \n",
    "    \n",
    "    \n",
    "    "
   ]
  },
  {
   "cell_type": "code",
   "execution_count": 28,
   "id": "641956d8",
   "metadata": {},
   "outputs": [
    {
     "data": {
      "text/plain": [
       "<matplotlib.image.AxesImage at 0x1ba8b92eeb0>"
      ]
     },
     "execution_count": 28,
     "metadata": {},
     "output_type": "execute_result"
    },
    {
     "data": {
      "image/png": "[encoded data removed]",
      "text/plain": [
       "<Figure size 432x288 with 1 Axes>"
      ]
     },
     "metadata": {
      "needs_background": "light"
     },
     "output_type": "display_data"
    }
   ],
   "source": [
    "img=cv2.imread(\"test_3.png\",0)\n",
    "img=np.array(img)\n",
    "plt.imshow(img,cmap=plt.cm.binary)"
   ]
  },
  {
   "cell_type": "code",
   "execution_count": 29,
   "id": "4604eee3",
   "metadata": {},
   "outputs": [
    {
     "name": "stdout",
     "output_type": "stream",
     "text": [
      "tensor([[-33.8196,   2.3124,  -7.1775,  30.8504, -24.4975, -37.3280, -29.6329,\n",
      "           4.8169, -39.6650, -33.6551]], device='cuda:0',\n",
      "       grad_fn=<AddmmBackward0>)\n",
      "Predicted Label is 3\n"
     ]
    }
   ],
   "source": [
    "pred=predict(\"test_3.png\",model)\n",
    "print(\"Predicted Label is {}\".format(pred))"
   ]
  },
  {
   "cell_type": "markdown",
   "id": "c5f6877f",
   "metadata": {},
   "source": [
    "# Saving Model"
   ]
  },
  {
   "cell_type": "code",
   "execution_count": null,
   "id": "c75c8f56",
   "metadata": {},
   "outputs": [],
   "source": [
    "torch.save(model,\"myModel.pth\")\n",
    "\n",
    "# Save only the weights\n",
    "torch.save(model.state_dict(),\"myModel_weights.pth\")"
   ]
  },
  {
   "cell_type": "markdown",
   "id": "dba65f4b",
   "metadata": {},
   "source": [
    "# Load Model"
   ]
  },
  {
   "cell_type": "code",
   "execution_count": null,
   "id": "88593467",
   "metadata": {},
   "outputs": [],
   "source": [
    "model1=torch.load(\"myModel.pth\")\n",
    "model1.eval()\n",
    "\n",
    "# 2.yol\n",
    "model1=CNN_Model()\n",
    "model1.load_state_dict(torch.load(\"myModel.pth\"))\n",
    "model.eval()\n"
   ]
  }
 ],
 "metadata": {
  "kernelspec": {
   "display_name": "Python 3 (ipykernel)",
   "language": "python",
   "name": "python3"
  },
  "language_info": {
   "codemirror_mode": {
    "name": "ipython",
    "version": 3
   },
   "file_extension": ".py",
   "mimetype": "text/x-python",
   "name": "python",
   "nbconvert_exporter": "python",
   "pygments_lexer": "ipython3",
   "version": "3.9.12"
  }
 },
 "nbformat": 4,
 "nbformat_minor": 5
}
