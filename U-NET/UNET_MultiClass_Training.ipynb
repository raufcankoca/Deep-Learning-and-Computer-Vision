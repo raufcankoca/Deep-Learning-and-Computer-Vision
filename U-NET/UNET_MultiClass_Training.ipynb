{
 "cells": [
  {
   "cell_type": "markdown",
   "id": "9a11b860",
   "metadata": {},
   "source": [
    "# Import libraries"
   ]
  },
  {
   "cell_type": "markdown",
   "id": "ef7b3a83",
   "metadata": {},
   "source": [
    "Before the training,download the dataset from this link : https://drive.google.com/file/d/1HWtBaSa-LTyAMgf2uaz1T9o1sTWDBajU/view"
   ]
  },
  {
   "cell_type": "code",
   "execution_count": 71,
   "id": "3ef928fa",
   "metadata": {},
   "outputs": [],
   "source": [
    "import numpy as np\n",
    "import matplotlib.pyplot as plt\n",
    "from patchify import patchify\n",
    "import tifffile\n",
    "from Unet_MultiClass_Model import UNET_MultiClass\n",
    "from tqdm import tqdm\n",
    "import glob\n",
    "import os\n",
    "import cv2\n",
    "import random"
   ]
  },
  {
   "cell_type": "markdown",
   "id": "9c0589b2",
   "metadata": {},
   "source": [
    "# Decompose our tiff stacked images"
   ]
  },
  {
   "cell_type": "code",
   "execution_count": 11,
   "id": "ef8c60e9",
   "metadata": {},
   "outputs": [],
   "source": [
    "# Read the stacked .tif image and mask\n",
    "large_img_stack=tifffile.imread(\"sandstone_data_for_ML/full_labels_for_deep_learning/128_patches/images_as_128x128_patches.tif\")\n",
    "large_mask_stack=tifffile.imread(\"sandstone_data_for_ML/full_labels_for_deep_learning/128_patches/masks_as_128x128_patches.tif\")"
   ]
  },
  {
   "cell_type": "code",
   "execution_count": 12,
   "id": "2d18e033",
   "metadata": {},
   "outputs": [
    {
     "name": "stdout",
     "output_type": "stream",
     "text": [
      "(1600, 128, 128)\n",
      "(1600, 128, 128)\n"
     ]
    }
   ],
   "source": [
    "# There are 1600 images and masks with 128x128.\n",
    "print(large_img_stack.shape)\n",
    "print(large_mask_stack.shape)"
   ]
  },
  {
   "cell_type": "code",
   "execution_count": 13,
   "id": "70e3c9b5",
   "metadata": {},
   "outputs": [
    {
     "name": "stdout",
     "output_type": "stream",
     "text": [
      "DONE!\n"
     ]
    }
   ],
   "source": [
    "# Decompose the stacked image \n",
    "for img in range(large_img_stack.shape[0]):\n",
    "    large_img=large_img_stack[img]\n",
    "    # Split the stacked image into 128x128 images (1600 images)\n",
    "    patches_img=patchify(large_img,(128,128),step=128)\n",
    "    # patches_img.shape --> (1,1,128,128)\n",
    "    for i in range(patches_img.shape[0]):\n",
    "        for j in range(patches_img.shape[1]):\n",
    "            \n",
    "            single_patch_img=patches_img[i,j,:,:]\n",
    "            # single_patch_img.shape --> (128,128)\n",
    "            \n",
    "            # Extract the single image 128x128 from stacked image and write into folder.\n",
    "            tifffile.imwrite(\"sandstone_data_for_ML/full_labels_for_deep_learning/128_patches/images/\"+\"img_\"\n",
    "                             +str(img)+\"_\"+str(i)+str(j)+\".tif\",single_patch_img)\n",
    "            \n",
    "print(\"DONE!\")\n",
    "            "
   ]
  },
  {
   "cell_type": "code",
   "execution_count": 14,
   "id": "e98a80e6",
   "metadata": {},
   "outputs": [
    {
     "name": "stdout",
     "output_type": "stream",
     "text": [
      "DONE!\n"
     ]
    }
   ],
   "source": [
    "# Decompose the stacked mask\n",
    "for img in range(large_mask_stack.shape[0]):\n",
    "    large_mask=large_mask_stack[img]\n",
    "    \n",
    "    # Split the stacked image into 128x128 masks (1600 masks)\n",
    "    patches_mask=patchify(large_mask,(128,128),step=128)\n",
    "    # patches_mask.shape --> (1,1,128,128)\n",
    "    \n",
    "    for i in range(patches_mask.shape[0]):\n",
    "        for j in range(patches_mask.shape[1]):\n",
    "            \n",
    "            # single_patch_mask.shape --> (128,128)\n",
    "            single_patch_mask=patches_mask[i,j,:,:]\n",
    "            \n",
    "            # Extract the single image 128x128 from stacked image and write into folder.\n",
    "            tifffile.imwrite(\"sandstone_data_for_ML/full_labels_for_deep_learning/128_patches/masks/\"+\"mask_\"\n",
    "                             +str(img)+\"_\"+str(i)+str(j)+\".tif\",single_patch_mask)\n",
    "            \n",
    "print(\"DONE!\")\n",
    "            "
   ]
  },
  {
   "cell_type": "code",
   "execution_count": 15,
   "id": "987c2668",
   "metadata": {},
   "outputs": [
    {
     "name": "stdout",
     "output_type": "stream",
     "text": [
      "(1, 1, 128, 128)\n",
      "(1, 1, 128, 128)\n"
     ]
    }
   ],
   "source": [
    "print(patches_img.shape)\n",
    "print(patches_mask.shape)"
   ]
  },
  {
   "cell_type": "markdown",
   "id": "9444820c",
   "metadata": {},
   "source": [
    "# Extract all images to our lists"
   ]
  },
  {
   "cell_type": "code",
   "execution_count": 17,
   "id": "1411f336",
   "metadata": {},
   "outputs": [],
   "source": [
    "images_path=\"sandstone_data_for_ML/full_labels_for_deep_learning/128_patches/images/\"\n",
    "masks_path=\"sandstone_data_for_ML/full_labels_for_deep_learning/128_patches/masks/\""
   ]
  },
  {
   "cell_type": "code",
   "execution_count": 18,
   "id": "077d4fbb",
   "metadata": {},
   "outputs": [
    {
     "name": "stderr",
     "output_type": "stream",
     "text": [
      "100%|█████████████████████████████████████████████████████████████████████████████| 1600/1600 [00:05<00:00, 299.47it/s]"
     ]
    },
    {
     "name": "stdout",
     "output_type": "stream",
     "text": [
      "DONE!\n"
     ]
    },
    {
     "name": "stderr",
     "output_type": "stream",
     "text": [
      "\n"
     ]
    }
   ],
   "source": [
    "# Create the list.It keeps the arrays of the train images.\n",
    "train_images=[]\n",
    "\n",
    "# Go to the directory of each images\n",
    "for directory_path in glob.glob(images_path):\n",
    "    \n",
    "    # Go to .tif files\n",
    "    for img_path in tqdm(glob.glob(os.path.join(directory_path,\"*.tif\"))):\n",
    "        # Read the image and append to the list\n",
    "        img=cv2.imread(img_path,0)\n",
    "        train_images.append(img)\n",
    "        \n",
    "train_images=np.array(train_images)\n",
    "print(\"DONE!\")"
   ]
  },
  {
   "cell_type": "code",
   "execution_count": 19,
   "id": "429f051b",
   "metadata": {},
   "outputs": [
    {
     "name": "stdout",
     "output_type": "stream",
     "text": [
      "train_images.shape (1600, 128, 128)\n"
     ]
    }
   ],
   "source": [
    "print(\"train_images.shape\",train_images.shape)"
   ]
  },
  {
   "cell_type": "code",
   "execution_count": 20,
   "id": "fff58049",
   "metadata": {},
   "outputs": [
    {
     "name": "stderr",
     "output_type": "stream",
     "text": [
      "100%|█████████████████████████████████████████████████████████████████████████████| 1600/1600 [00:04<00:00, 353.04it/s]"
     ]
    },
    {
     "name": "stdout",
     "output_type": "stream",
     "text": [
      "DONE!\n"
     ]
    },
    {
     "name": "stderr",
     "output_type": "stream",
     "text": [
      "\n"
     ]
    }
   ],
   "source": [
    "# Create the list.It keeps the arrays of the train images.\n",
    "train_masks=[]\n",
    "\n",
    "# Go to the directory of each masks\n",
    "for directory_path in glob.glob(masks_path):\n",
    "    \n",
    "    # Go to .tif files\n",
    "    for mask_path in tqdm(glob.glob(os.path.join(directory_path,\"*.tif\"))):\n",
    "        # Read the image and append to the list\n",
    "        mask=cv2.imread(mask_path,0)\n",
    "        train_masks.append(mask)\n",
    "    \n",
    "train_masks=np.array(train_masks)\n",
    "print(\"DONE!\")"
   ]
  },
  {
   "cell_type": "code",
   "execution_count": 21,
   "id": "46d3942b",
   "metadata": {},
   "outputs": [
    {
     "name": "stdout",
     "output_type": "stream",
     "text": [
      "train_masks.shape (1600, 128, 128)\n"
     ]
    }
   ],
   "source": [
    "print(\"train_masks.shape\",train_masks.shape)"
   ]
  },
  {
   "cell_type": "code",
   "execution_count": 22,
   "id": "1796c4de",
   "metadata": {},
   "outputs": [
    {
     "data": {
      "text/plain": [
       "array([1, 2, 3, 4], dtype=uint8)"
      ]
     },
     "execution_count": 22,
     "metadata": {},
     "output_type": "execute_result"
    }
   ],
   "source": [
    "np.unique(train_masks) "
   ]
  },
  {
   "cell_type": "markdown",
   "id": "a28a76cd",
   "metadata": {},
   "source": [
    "# Encoding the mask values(labels)"
   ]
  },
  {
   "cell_type": "code",
   "execution_count": 23,
   "id": "f51fe08f",
   "metadata": {},
   "outputs": [],
   "source": [
    "from sklearn.preprocessing import LabelEncoder\n",
    "from keras.utils import normalize"
   ]
  },
  {
   "cell_type": "code",
   "execution_count": 39,
   "id": "9f2238f3",
   "metadata": {},
   "outputs": [
    {
     "name": "stdout",
     "output_type": "stream",
     "text": [
      "[0 1 2 3]\n",
      "(1600, 128, 128)\n"
     ]
    }
   ],
   "source": [
    "# We have to encode the mask (1,2,3,4) --> (0,1,2,3)\n",
    "\n",
    "lbe=LabelEncoder()\n",
    "n,h,w=train_masks.shape\n",
    "train_masks_reshaped=train_masks.reshape(-1,1) # Flatten the labels (1600*128*128,1)\n",
    "train_masks_reshaped_encoded=lbe.fit_transform(train_masks_reshaped) # Encode the labels (0,1,2,3)\n",
    "train_masks_encoded_original_shape=train_masks_reshaped_encoded.reshape(n,h,w) # Reshape old shape (1600,128,128)\n",
    "\n",
    "print(np.unique(train_masks_encoded_original_shape))\n",
    "print(train_masks_encoded_original_shape.shape)\n"
   ]
  },
  {
   "cell_type": "code",
   "execution_count": 25,
   "id": "057e4a50",
   "metadata": {},
   "outputs": [
    {
     "name": "stdout",
     "output_type": "stream",
     "text": [
      "(1600, 128, 128)\n"
     ]
    }
   ],
   "source": [
    "print(train_masks_input.shape)"
   ]
  },
  {
   "cell_type": "code",
   "execution_count": 26,
   "id": "b2ad7fee",
   "metadata": {},
   "outputs": [
    {
     "name": "stdout",
     "output_type": "stream",
     "text": [
      "(1600, 128, 128, 1)\n"
     ]
    }
   ],
   "source": [
    "# The model wants to inputs as 4-dimensional\n",
    "train_images=np.expand_dims(train_images,axis=3)\n",
    "train_images=normalize(train_images,axis=1) #Apply the normalization\n",
    "\n",
    "print(train_images.shape)"
   ]
  },
  {
   "cell_type": "code",
   "execution_count": 40,
   "id": "de269e47",
   "metadata": {},
   "outputs": [
    {
     "name": "stdout",
     "output_type": "stream",
     "text": [
      "(1600, 128, 128, 1)\n"
     ]
    }
   ],
   "source": [
    "# Expand 4th dimension to feed the model because the model wants data with 4 dimension.\n",
    "train_masks_input=np.expand_dims(train_masks_encoded_original_shape,axis=3)\n",
    "print(train_masks_input.shape)"
   ]
  },
  {
   "cell_type": "markdown",
   "id": "7435af11",
   "metadata": {},
   "source": [
    "# Split train and test dataset"
   ]
  },
  {
   "cell_type": "code",
   "execution_count": 41,
   "id": "74aec318",
   "metadata": {},
   "outputs": [],
   "source": [
    "from sklearn.model_selection import train_test_split"
   ]
  },
  {
   "cell_type": "code",
   "execution_count": 42,
   "id": "a9e0db32",
   "metadata": {},
   "outputs": [],
   "source": [
    "X_train,X_test,Y_train,Y_test=train_test_split(train_images,train_masks_input,\n",
    "                                               test_size=0.2,random_state=42)"
   ]
  },
  {
   "cell_type": "code",
   "execution_count": 44,
   "id": "55c9e6f2",
   "metadata": {},
   "outputs": [
    {
     "name": "stdout",
     "output_type": "stream",
     "text": [
      "X_train.shape (1280, 128, 128, 1)\n",
      "Y_train.shape (1280, 128, 128, 1)\n",
      "X_test.shape (320, 128, 128, 1)\n",
      "Y_test.shape (320, 128, 128, 1)\n"
     ]
    }
   ],
   "source": [
    "print(\"X_train.shape\",X_train.shape)\n",
    "print(\"Y_train.shape\",Y_train.shape)\n",
    "print(\"X_test.shape\",X_test.shape)\n",
    "print(\"Y_test.shape\",Y_test.shape)"
   ]
  },
  {
   "cell_type": "markdown",
   "id": "b25d4b08",
   "metadata": {},
   "source": [
    "# Categorize the labels"
   ]
  },
  {
   "cell_type": "code",
   "execution_count": 46,
   "id": "832f70c2",
   "metadata": {},
   "outputs": [],
   "source": [
    "from keras.utils import to_categorical"
   ]
  },
  {
   "cell_type": "code",
   "execution_count": 47,
   "id": "7ec95eee",
   "metadata": {},
   "outputs": [
    {
     "name": "stdout",
     "output_type": "stream",
     "text": [
      "(1280, 128, 128, 4)\n",
      "(1280, 128, 128, 4)\n"
     ]
    }
   ],
   "source": [
    "# Convert the labels into one-hot-encoded type\n",
    "# Each pixel value will be defined by one-hot-encoded label.\n",
    "\n",
    "train_masks_cat=to_categorical(Y_train,num_classes=n_classes)\n",
    "print(train_masks_cat.shape)\n",
    "\n",
    "Y_train_cat=train_masks_cat.reshape((Y_train.shape[0],Y_train.shape[1],Y_train.shape[2],n_classes))\n",
    "print(Y_train_cat.shape)"
   ]
  },
  {
   "cell_type": "code",
   "execution_count": 60,
   "id": "56adc069",
   "metadata": {},
   "outputs": [
    {
     "name": "stdout",
     "output_type": "stream",
     "text": [
      "(320, 128, 128, 4)\n",
      "(320, 128, 128, 4)\n"
     ]
    }
   ],
   "source": [
    "test_masks_cat=to_categorical(Y_test,num_classes=n_classes)\n",
    "print(test_masks_cat.shape)\n",
    "\n",
    "Y_test_cat=test_masks_cat.reshape((Y_test.shape[0],Y_test.shape[1],Y_test.shape[2],n_classes))\n",
    "print(Y_test_cat.shape)"
   ]
  },
  {
   "cell_type": "code",
   "execution_count": 53,
   "id": "3eb11de3",
   "metadata": {
    "scrolled": true
   },
   "outputs": [
    {
     "data": {
      "text/plain": [
       "array([[[[0., 0., 1., 0.],\n",
       "         [0., 0., 1., 0.],\n",
       "         [0., 0., 1., 0.],\n",
       "         ...,\n",
       "         [0., 0., 1., 0.],\n",
       "         [0., 0., 1., 0.],\n",
       "         [0., 0., 1., 0.]],\n",
       "\n",
       "        [[0., 0., 1., 0.],\n",
       "         [0., 0., 1., 0.],\n",
       "         [0., 0., 1., 0.],\n",
       "         ...,\n",
       "         [0., 0., 1., 0.],\n",
       "         [0., 0., 1., 0.],\n",
       "         [0., 0., 1., 0.]],\n",
       "\n",
       "        [[0., 0., 1., 0.],\n",
       "         [0., 0., 1., 0.],\n",
       "         [0., 0., 1., 0.],\n",
       "         ...,\n",
       "         [0., 0., 1., 0.],\n",
       "         [0., 0., 1., 0.],\n",
       "         [0., 0., 1., 0.]],\n",
       "\n",
       "        ...,\n",
       "\n",
       "        [[1., 0., 0., 0.],\n",
       "         [1., 0., 0., 0.],\n",
       "         [1., 0., 0., 0.],\n",
       "         ...,\n",
       "         [0., 1., 0., 0.],\n",
       "         [0., 1., 0., 0.],\n",
       "         [0., 1., 0., 0.]],\n",
       "\n",
       "        [[1., 0., 0., 0.],\n",
       "         [1., 0., 0., 0.],\n",
       "         [1., 0., 0., 0.],\n",
       "         ...,\n",
       "         [0., 1., 0., 0.],\n",
       "         [0., 1., 0., 0.],\n",
       "         [0., 1., 0., 0.]],\n",
       "\n",
       "        [[1., 0., 0., 0.],\n",
       "         [1., 0., 0., 0.],\n",
       "         [1., 0., 0., 0.],\n",
       "         ...,\n",
       "         [0., 1., 0., 0.],\n",
       "         [0., 1., 0., 0.],\n",
       "         [0., 1., 0., 0.]]],\n",
       "\n",
       "\n",
       "       [[[0., 0., 1., 0.],\n",
       "         [0., 0., 1., 0.],\n",
       "         [0., 0., 1., 0.],\n",
       "         ...,\n",
       "         [0., 0., 1., 0.],\n",
       "         [0., 0., 1., 0.],\n",
       "         [0., 0., 1., 0.]],\n",
       "\n",
       "        [[0., 0., 1., 0.],\n",
       "         [0., 0., 1., 0.],\n",
       "         [0., 0., 1., 0.],\n",
       "         ...,\n",
       "         [0., 0., 1., 0.],\n",
       "         [0., 0., 1., 0.],\n",
       "         [0., 0., 1., 0.]],\n",
       "\n",
       "        [[0., 0., 1., 0.],\n",
       "         [0., 0., 1., 0.],\n",
       "         [0., 0., 1., 0.],\n",
       "         ...,\n",
       "         [0., 0., 1., 0.],\n",
       "         [0., 0., 1., 0.],\n",
       "         [0., 0., 1., 0.]],\n",
       "\n",
       "        ...,\n",
       "\n",
       "        [[0., 0., 1., 0.],\n",
       "         [0., 0., 1., 0.],\n",
       "         [0., 0., 1., 0.],\n",
       "         ...,\n",
       "         [1., 0., 0., 0.],\n",
       "         [1., 0., 0., 0.],\n",
       "         [1., 0., 0., 0.]],\n",
       "\n",
       "        [[0., 0., 1., 0.],\n",
       "         [0., 0., 1., 0.],\n",
       "         [0., 0., 1., 0.],\n",
       "         ...,\n",
       "         [1., 0., 0., 0.],\n",
       "         [1., 0., 0., 0.],\n",
       "         [1., 0., 0., 0.]],\n",
       "\n",
       "        [[0., 0., 1., 0.],\n",
       "         [0., 0., 1., 0.],\n",
       "         [0., 0., 1., 0.],\n",
       "         ...,\n",
       "         [1., 0., 0., 0.],\n",
       "         [1., 0., 0., 0.],\n",
       "         [1., 0., 0., 0.]]],\n",
       "\n",
       "\n",
       "       [[[0., 0., 1., 0.],\n",
       "         [0., 0., 1., 0.],\n",
       "         [0., 1., 0., 0.],\n",
       "         ...,\n",
       "         [0., 1., 0., 0.],\n",
       "         [0., 1., 0., 0.],\n",
       "         [0., 1., 0., 0.]],\n",
       "\n",
       "        [[0., 0., 1., 0.],\n",
       "         [0., 0., 1., 0.],\n",
       "         [0., 1., 0., 0.],\n",
       "         ...,\n",
       "         [0., 1., 0., 0.],\n",
       "         [0., 1., 0., 0.],\n",
       "         [0., 1., 0., 0.]],\n",
       "\n",
       "        [[0., 0., 1., 0.],\n",
       "         [0., 0., 1., 0.],\n",
       "         [0., 0., 1., 0.],\n",
       "         ...,\n",
       "         [0., 1., 0., 0.],\n",
       "         [0., 1., 0., 0.],\n",
       "         [0., 1., 0., 0.]],\n",
       "\n",
       "        ...,\n",
       "\n",
       "        [[0., 0., 1., 0.],\n",
       "         [0., 0., 1., 0.],\n",
       "         [0., 0., 1., 0.],\n",
       "         ...,\n",
       "         [0., 0., 1., 0.],\n",
       "         [0., 0., 1., 0.],\n",
       "         [0., 0., 1., 0.]],\n",
       "\n",
       "        [[0., 0., 1., 0.],\n",
       "         [0., 0., 1., 0.],\n",
       "         [0., 0., 1., 0.],\n",
       "         ...,\n",
       "         [0., 0., 1., 0.],\n",
       "         [0., 0., 1., 0.],\n",
       "         [0., 0., 1., 0.]],\n",
       "\n",
       "        [[0., 0., 1., 0.],\n",
       "         [0., 0., 1., 0.],\n",
       "         [0., 0., 1., 0.],\n",
       "         ...,\n",
       "         [0., 0., 1., 0.],\n",
       "         [0., 0., 1., 0.],\n",
       "         [0., 0., 1., 0.]]],\n",
       "\n",
       "\n",
       "       ...,\n",
       "\n",
       "\n",
       "       [[[0., 1., 0., 0.],\n",
       "         [0., 1., 0., 0.],\n",
       "         [0., 1., 0., 0.],\n",
       "         ...,\n",
       "         [0., 0., 1., 0.],\n",
       "         [0., 0., 1., 0.],\n",
       "         [0., 0., 1., 0.]],\n",
       "\n",
       "        [[0., 1., 0., 0.],\n",
       "         [0., 1., 0., 0.],\n",
       "         [0., 1., 0., 0.],\n",
       "         ...,\n",
       "         [0., 0., 1., 0.],\n",
       "         [0., 0., 1., 0.],\n",
       "         [0., 0., 1., 0.]],\n",
       "\n",
       "        [[0., 1., 0., 0.],\n",
       "         [0., 1., 0., 0.],\n",
       "         [0., 1., 0., 0.],\n",
       "         ...,\n",
       "         [0., 0., 1., 0.],\n",
       "         [0., 0., 1., 0.],\n",
       "         [0., 0., 1., 0.]],\n",
       "\n",
       "        ...,\n",
       "\n",
       "        [[0., 0., 1., 0.],\n",
       "         [0., 0., 1., 0.],\n",
       "         [0., 0., 1., 0.],\n",
       "         ...,\n",
       "         [0., 0., 1., 0.],\n",
       "         [0., 0., 1., 0.],\n",
       "         [0., 0., 1., 0.]],\n",
       "\n",
       "        [[0., 0., 0., 1.],\n",
       "         [0., 0., 0., 1.],\n",
       "         [0., 0., 0., 1.],\n",
       "         ...,\n",
       "         [0., 0., 1., 0.],\n",
       "         [0., 0., 1., 0.],\n",
       "         [0., 0., 1., 0.]],\n",
       "\n",
       "        [[0., 0., 0., 1.],\n",
       "         [0., 0., 0., 1.],\n",
       "         [0., 0., 0., 1.],\n",
       "         ...,\n",
       "         [0., 0., 1., 0.],\n",
       "         [0., 0., 1., 0.],\n",
       "         [0., 0., 1., 0.]]],\n",
       "\n",
       "\n",
       "       [[[0., 0., 1., 0.],\n",
       "         [0., 0., 1., 0.],\n",
       "         [0., 0., 1., 0.],\n",
       "         ...,\n",
       "         [0., 0., 1., 0.],\n",
       "         [0., 0., 1., 0.],\n",
       "         [0., 0., 1., 0.]],\n",
       "\n",
       "        [[0., 0., 1., 0.],\n",
       "         [0., 0., 1., 0.],\n",
       "         [0., 0., 1., 0.],\n",
       "         ...,\n",
       "         [0., 0., 1., 0.],\n",
       "         [0., 0., 1., 0.],\n",
       "         [0., 0., 1., 0.]],\n",
       "\n",
       "        [[0., 0., 1., 0.],\n",
       "         [0., 0., 1., 0.],\n",
       "         [0., 0., 1., 0.],\n",
       "         ...,\n",
       "         [0., 0., 1., 0.],\n",
       "         [0., 0., 1., 0.],\n",
       "         [0., 0., 1., 0.]],\n",
       "\n",
       "        ...,\n",
       "\n",
       "        [[0., 0., 1., 0.],\n",
       "         [0., 0., 1., 0.],\n",
       "         [0., 0., 1., 0.],\n",
       "         ...,\n",
       "         [0., 0., 1., 0.],\n",
       "         [0., 0., 1., 0.],\n",
       "         [0., 0., 1., 0.]],\n",
       "\n",
       "        [[0., 0., 1., 0.],\n",
       "         [0., 0., 1., 0.],\n",
       "         [0., 0., 1., 0.],\n",
       "         ...,\n",
       "         [0., 0., 1., 0.],\n",
       "         [0., 0., 1., 0.],\n",
       "         [0., 0., 1., 0.]],\n",
       "\n",
       "        [[0., 0., 1., 0.],\n",
       "         [0., 0., 1., 0.],\n",
       "         [0., 0., 1., 0.],\n",
       "         ...,\n",
       "         [0., 0., 1., 0.],\n",
       "         [0., 0., 1., 0.],\n",
       "         [0., 0., 1., 0.]]],\n",
       "\n",
       "\n",
       "       [[[0., 0., 1., 0.],\n",
       "         [0., 0., 1., 0.],\n",
       "         [0., 0., 1., 0.],\n",
       "         ...,\n",
       "         [0., 0., 1., 0.],\n",
       "         [0., 0., 1., 0.],\n",
       "         [0., 0., 1., 0.]],\n",
       "\n",
       "        [[0., 0., 1., 0.],\n",
       "         [0., 0., 1., 0.],\n",
       "         [0., 0., 1., 0.],\n",
       "         ...,\n",
       "         [0., 0., 1., 0.],\n",
       "         [0., 0., 1., 0.],\n",
       "         [0., 0., 1., 0.]],\n",
       "\n",
       "        [[0., 0., 1., 0.],\n",
       "         [0., 0., 1., 0.],\n",
       "         [0., 0., 1., 0.],\n",
       "         ...,\n",
       "         [0., 1., 0., 0.],\n",
       "         [0., 0., 1., 0.],\n",
       "         [0., 0., 1., 0.]],\n",
       "\n",
       "        ...,\n",
       "\n",
       "        [[0., 0., 1., 0.],\n",
       "         [0., 0., 1., 0.],\n",
       "         [0., 0., 1., 0.],\n",
       "         ...,\n",
       "         [0., 0., 1., 0.],\n",
       "         [0., 0., 1., 0.],\n",
       "         [0., 0., 1., 0.]],\n",
       "\n",
       "        [[0., 0., 1., 0.],\n",
       "         [0., 0., 1., 0.],\n",
       "         [0., 0., 1., 0.],\n",
       "         ...,\n",
       "         [0., 0., 1., 0.],\n",
       "         [0., 0., 1., 0.],\n",
       "         [0., 0., 1., 0.]],\n",
       "\n",
       "        [[0., 0., 1., 0.],\n",
       "         [0., 0., 1., 0.],\n",
       "         [0., 0., 1., 0.],\n",
       "         ...,\n",
       "         [0., 0., 1., 0.],\n",
       "         [0., 0., 1., 0.],\n",
       "         [0., 0., 1., 0.]]]], dtype=float32)"
      ]
     },
     "execution_count": 53,
     "metadata": {},
     "output_type": "execute_result"
    }
   ],
   "source": [
    "Y_train_cat"
   ]
  },
  {
   "cell_type": "code",
   "execution_count": 54,
   "id": "cb395d74",
   "metadata": {},
   "outputs": [
    {
     "data": {
      "text/plain": [
       "array([[[[2],\n",
       "         [2],\n",
       "         [2],\n",
       "         ...,\n",
       "         [2],\n",
       "         [2],\n",
       "         [2]],\n",
       "\n",
       "        [[2],\n",
       "         [2],\n",
       "         [2],\n",
       "         ...,\n",
       "         [2],\n",
       "         [2],\n",
       "         [2]],\n",
       "\n",
       "        [[2],\n",
       "         [2],\n",
       "         [2],\n",
       "         ...,\n",
       "         [2],\n",
       "         [2],\n",
       "         [2]],\n",
       "\n",
       "        ...,\n",
       "\n",
       "        [[0],\n",
       "         [0],\n",
       "         [0],\n",
       "         ...,\n",
       "         [1],\n",
       "         [1],\n",
       "         [1]],\n",
       "\n",
       "        [[0],\n",
       "         [0],\n",
       "         [0],\n",
       "         ...,\n",
       "         [1],\n",
       "         [1],\n",
       "         [1]],\n",
       "\n",
       "        [[0],\n",
       "         [0],\n",
       "         [0],\n",
       "         ...,\n",
       "         [1],\n",
       "         [1],\n",
       "         [1]]],\n",
       "\n",
       "\n",
       "       [[[2],\n",
       "         [2],\n",
       "         [2],\n",
       "         ...,\n",
       "         [2],\n",
       "         [2],\n",
       "         [2]],\n",
       "\n",
       "        [[2],\n",
       "         [2],\n",
       "         [2],\n",
       "         ...,\n",
       "         [2],\n",
       "         [2],\n",
       "         [2]],\n",
       "\n",
       "        [[2],\n",
       "         [2],\n",
       "         [2],\n",
       "         ...,\n",
       "         [2],\n",
       "         [2],\n",
       "         [2]],\n",
       "\n",
       "        ...,\n",
       "\n",
       "        [[2],\n",
       "         [2],\n",
       "         [2],\n",
       "         ...,\n",
       "         [0],\n",
       "         [0],\n",
       "         [0]],\n",
       "\n",
       "        [[2],\n",
       "         [2],\n",
       "         [2],\n",
       "         ...,\n",
       "         [0],\n",
       "         [0],\n",
       "         [0]],\n",
       "\n",
       "        [[2],\n",
       "         [2],\n",
       "         [2],\n",
       "         ...,\n",
       "         [0],\n",
       "         [0],\n",
       "         [0]]],\n",
       "\n",
       "\n",
       "       [[[2],\n",
       "         [2],\n",
       "         [1],\n",
       "         ...,\n",
       "         [1],\n",
       "         [1],\n",
       "         [1]],\n",
       "\n",
       "        [[2],\n",
       "         [2],\n",
       "         [1],\n",
       "         ...,\n",
       "         [1],\n",
       "         [1],\n",
       "         [1]],\n",
       "\n",
       "        [[2],\n",
       "         [2],\n",
       "         [2],\n",
       "         ...,\n",
       "         [1],\n",
       "         [1],\n",
       "         [1]],\n",
       "\n",
       "        ...,\n",
       "\n",
       "        [[2],\n",
       "         [2],\n",
       "         [2],\n",
       "         ...,\n",
       "         [2],\n",
       "         [2],\n",
       "         [2]],\n",
       "\n",
       "        [[2],\n",
       "         [2],\n",
       "         [2],\n",
       "         ...,\n",
       "         [2],\n",
       "         [2],\n",
       "         [2]],\n",
       "\n",
       "        [[2],\n",
       "         [2],\n",
       "         [2],\n",
       "         ...,\n",
       "         [2],\n",
       "         [2],\n",
       "         [2]]],\n",
       "\n",
       "\n",
       "       ...,\n",
       "\n",
       "\n",
       "       [[[1],\n",
       "         [1],\n",
       "         [1],\n",
       "         ...,\n",
       "         [2],\n",
       "         [2],\n",
       "         [2]],\n",
       "\n",
       "        [[1],\n",
       "         [1],\n",
       "         [1],\n",
       "         ...,\n",
       "         [2],\n",
       "         [2],\n",
       "         [2]],\n",
       "\n",
       "        [[1],\n",
       "         [1],\n",
       "         [1],\n",
       "         ...,\n",
       "         [2],\n",
       "         [2],\n",
       "         [2]],\n",
       "\n",
       "        ...,\n",
       "\n",
       "        [[2],\n",
       "         [2],\n",
       "         [2],\n",
       "         ...,\n",
       "         [2],\n",
       "         [2],\n",
       "         [2]],\n",
       "\n",
       "        [[3],\n",
       "         [3],\n",
       "         [3],\n",
       "         ...,\n",
       "         [2],\n",
       "         [2],\n",
       "         [2]],\n",
       "\n",
       "        [[3],\n",
       "         [3],\n",
       "         [3],\n",
       "         ...,\n",
       "         [2],\n",
       "         [2],\n",
       "         [2]]],\n",
       "\n",
       "\n",
       "       [[[2],\n",
       "         [2],\n",
       "         [2],\n",
       "         ...,\n",
       "         [2],\n",
       "         [2],\n",
       "         [2]],\n",
       "\n",
       "        [[2],\n",
       "         [2],\n",
       "         [2],\n",
       "         ...,\n",
       "         [2],\n",
       "         [2],\n",
       "         [2]],\n",
       "\n",
       "        [[2],\n",
       "         [2],\n",
       "         [2],\n",
       "         ...,\n",
       "         [2],\n",
       "         [2],\n",
       "         [2]],\n",
       "\n",
       "        ...,\n",
       "\n",
       "        [[2],\n",
       "         [2],\n",
       "         [2],\n",
       "         ...,\n",
       "         [2],\n",
       "         [2],\n",
       "         [2]],\n",
       "\n",
       "        [[2],\n",
       "         [2],\n",
       "         [2],\n",
       "         ...,\n",
       "         [2],\n",
       "         [2],\n",
       "         [2]],\n",
       "\n",
       "        [[2],\n",
       "         [2],\n",
       "         [2],\n",
       "         ...,\n",
       "         [2],\n",
       "         [2],\n",
       "         [2]]],\n",
       "\n",
       "\n",
       "       [[[2],\n",
       "         [2],\n",
       "         [2],\n",
       "         ...,\n",
       "         [2],\n",
       "         [2],\n",
       "         [2]],\n",
       "\n",
       "        [[2],\n",
       "         [2],\n",
       "         [2],\n",
       "         ...,\n",
       "         [2],\n",
       "         [2],\n",
       "         [2]],\n",
       "\n",
       "        [[2],\n",
       "         [2],\n",
       "         [2],\n",
       "         ...,\n",
       "         [1],\n",
       "         [2],\n",
       "         [2]],\n",
       "\n",
       "        ...,\n",
       "\n",
       "        [[2],\n",
       "         [2],\n",
       "         [2],\n",
       "         ...,\n",
       "         [2],\n",
       "         [2],\n",
       "         [2]],\n",
       "\n",
       "        [[2],\n",
       "         [2],\n",
       "         [2],\n",
       "         ...,\n",
       "         [2],\n",
       "         [2],\n",
       "         [2]],\n",
       "\n",
       "        [[2],\n",
       "         [2],\n",
       "         [2],\n",
       "         ...,\n",
       "         [2],\n",
       "         [2],\n",
       "         [2]]]], dtype=int64)"
      ]
     },
     "execution_count": 54,
     "metadata": {},
     "output_type": "execute_result"
    }
   ],
   "source": [
    "Y_train"
   ]
  },
  {
   "cell_type": "markdown",
   "id": "904fe257",
   "metadata": {},
   "source": [
    "# Define the parameters"
   ]
  },
  {
   "cell_type": "code",
   "execution_count": 59,
   "id": "dea7cc33",
   "metadata": {},
   "outputs": [],
   "source": [
    "num_train,IMG_HEIGHT,IMG_WIDTH,IMG_CHANNELS=X_train.shape # Defining image height,width and number of channels.\n",
    "BATCH_SIZE=16 # How many data will be taken in one epoch.\n",
    "n_classes=4 # Number of classes for segmentation."
   ]
  },
  {
   "cell_type": "markdown",
   "id": "784ff82a",
   "metadata": {},
   "source": [
    "# Call UNet Model"
   ]
  },
  {
   "cell_type": "code",
   "execution_count": 58,
   "id": "baea4a5d",
   "metadata": {},
   "outputs": [
    {
     "name": "stdout",
     "output_type": "stream",
     "text": [
      "Model: \"model\"\n",
      "__________________________________________________________________________________________________\n",
      " Layer (type)                   Output Shape         Param #     Connected to                     \n",
      "==================================================================================================\n",
      " input_1 (InputLayer)           [(None, 128, 128, 1  0           []                               \n",
      "                                )]                                                                \n",
      "                                                                                                  \n",
      " lambda (Lambda)                (None, 128, 128, 1)  0           ['input_1[0][0]']                \n",
      "                                                                                                  \n",
      " conv2d (Conv2D)                (None, 128, 128, 16  160         ['lambda[0][0]']                 \n",
      "                                )                                                                 \n",
      "                                                                                                  \n",
      " dropout (Dropout)              (None, 128, 128, 16  0           ['conv2d[0][0]']                 \n",
      "                                )                                                                 \n",
      "                                                                                                  \n",
      " conv2d_1 (Conv2D)              (None, 128, 128, 16  2320        ['dropout[0][0]']                \n",
      "                                )                                                                 \n",
      "                                                                                                  \n",
      " max_pooling2d (MaxPooling2D)   (None, 64, 64, 16)   0           ['conv2d_1[0][0]']               \n",
      "                                                                                                  \n",
      " conv2d_2 (Conv2D)              (None, 64, 64, 32)   4640        ['max_pooling2d[0][0]']          \n",
      "                                                                                                  \n",
      " dropout_1 (Dropout)            (None, 64, 64, 32)   0           ['conv2d_2[0][0]']               \n",
      "                                                                                                  \n",
      " conv2d_3 (Conv2D)              (None, 64, 64, 32)   9248        ['dropout_1[0][0]']              \n",
      "                                                                                                  \n",
      " max_pooling2d_1 (MaxPooling2D)  (None, 32, 32, 32)  0           ['conv2d_3[0][0]']               \n",
      "                                                                                                  \n",
      " conv2d_4 (Conv2D)              (None, 32, 32, 64)   18496       ['max_pooling2d_1[0][0]']        \n",
      "                                                                                                  \n",
      " dropout_2 (Dropout)            (None, 32, 32, 64)   0           ['conv2d_4[0][0]']               \n",
      "                                                                                                  \n",
      " conv2d_5 (Conv2D)              (None, 32, 32, 64)   36928       ['dropout_2[0][0]']              \n",
      "                                                                                                  \n",
      " max_pooling2d_2 (MaxPooling2D)  (None, 16, 16, 64)  0           ['conv2d_5[0][0]']               \n",
      "                                                                                                  \n",
      " conv2d_6 (Conv2D)              (None, 16, 16, 128)  73856       ['max_pooling2d_2[0][0]']        \n",
      "                                                                                                  \n",
      " dropout_3 (Dropout)            (None, 16, 16, 128)  0           ['conv2d_6[0][0]']               \n",
      "                                                                                                  \n",
      " conv2d_7 (Conv2D)              (None, 16, 16, 128)  147584      ['dropout_3[0][0]']              \n",
      "                                                                                                  \n",
      " max_pooling2d_3 (MaxPooling2D)  (None, 8, 8, 128)   0           ['conv2d_7[0][0]']               \n",
      "                                                                                                  \n",
      " conv2d_8 (Conv2D)              (None, 8, 8, 256)    295168      ['max_pooling2d_3[0][0]']        \n",
      "                                                                                                  \n",
      " dropout_4 (Dropout)            (None, 8, 8, 256)    0           ['conv2d_8[0][0]']               \n",
      "                                                                                                  \n",
      " conv2d_9 (Conv2D)              (None, 8, 8, 256)    590080      ['dropout_4[0][0]']              \n",
      "                                                                                                  \n",
      " conv2d_transpose (Conv2DTransp  (None, 16, 16, 128)  131200     ['conv2d_9[0][0]']               \n",
      " ose)                                                                                             \n",
      "                                                                                                  \n",
      " concatenate (Concatenate)      (None, 16, 16, 256)  0           ['conv2d_transpose[0][0]',       \n",
      "                                                                  'conv2d_7[0][0]']               \n",
      "                                                                                                  \n",
      " conv2d_10 (Conv2D)             (None, 16, 16, 128)  295040      ['concatenate[0][0]']            \n",
      "                                                                                                  \n",
      " dropout_5 (Dropout)            (None, 16, 16, 128)  0           ['conv2d_10[0][0]']              \n",
      "                                                                                                  \n",
      " conv2d_11 (Conv2D)             (None, 16, 16, 128)  147584      ['dropout_5[0][0]']              \n",
      "                                                                                                  \n",
      " conv2d_transpose_1 (Conv2DTran  (None, 32, 32, 64)  32832       ['conv2d_11[0][0]']              \n",
      " spose)                                                                                           \n",
      "                                                                                                  \n",
      " concatenate_1 (Concatenate)    (None, 32, 32, 128)  0           ['conv2d_transpose_1[0][0]',     \n",
      "                                                                  'conv2d_5[0][0]']               \n",
      "                                                                                                  \n",
      " conv2d_12 (Conv2D)             (None, 32, 32, 64)   73792       ['concatenate_1[0][0]']          \n",
      "                                                                                                  \n",
      " dropout_6 (Dropout)            (None, 32, 32, 64)   0           ['conv2d_12[0][0]']              \n",
      "                                                                                                  \n",
      " conv2d_13 (Conv2D)             (None, 32, 32, 64)   36928       ['dropout_6[0][0]']              \n",
      "                                                                                                  \n",
      " conv2d_transpose_2 (Conv2DTran  (None, 64, 64, 32)  8224        ['conv2d_13[0][0]']              \n",
      " spose)                                                                                           \n",
      "                                                                                                  \n",
      " concatenate_2 (Concatenate)    (None, 64, 64, 64)   0           ['conv2d_transpose_2[0][0]',     \n",
      "                                                                  'conv2d_3[0][0]']               \n",
      "                                                                                                  \n",
      " conv2d_14 (Conv2D)             (None, 64, 64, 32)   18464       ['concatenate_2[0][0]']          \n",
      "                                                                                                  \n",
      " dropout_7 (Dropout)            (None, 64, 64, 32)   0           ['conv2d_14[0][0]']              \n",
      "                                                                                                  \n",
      " conv2d_15 (Conv2D)             (None, 64, 64, 32)   9248        ['dropout_7[0][0]']              \n",
      "                                                                                                  \n",
      " conv2d_transpose_3 (Conv2DTran  (None, 128, 128, 16  2064       ['conv2d_15[0][0]']              \n",
      " spose)                         )                                                                 \n",
      "                                                                                                  \n",
      " concatenate_3 (Concatenate)    (None, 128, 128, 32  0           ['conv2d_transpose_3[0][0]',     \n",
      "                                )                                 'conv2d_1[0][0]']               \n",
      "                                                                                                  \n",
      " conv2d_16 (Conv2D)             (None, 128, 128, 16  4624        ['concatenate_3[0][0]']          \n",
      "                                )                                                                 \n",
      "                                                                                                  \n",
      " dropout_8 (Dropout)            (None, 128, 128, 16  0           ['conv2d_16[0][0]']              \n",
      "                                )                                                                 \n",
      "                                                                                                  \n",
      " conv2d_17 (Conv2D)             (None, 128, 128, 16  2320        ['dropout_8[0][0]']              \n",
      "                                )                                                                 \n",
      "                                                                                                  \n",
      " conv2d_18 (Conv2D)             (None, 128, 128, 4)  68          ['conv2d_17[0][0]']              \n",
      "                                                                                                  \n",
      "==================================================================================================\n",
      "Total params: 1,940,868\n",
      "Trainable params: 1,940,868\n",
      "Non-trainable params: 0\n",
      "__________________________________________________________________________________________________\n"
     ]
    }
   ],
   "source": [
    "model=UNET_MultiClass(n_classes=4,IMG_HEIGHT=IMG_HEIGHT,IMG_WIDTH=IMG_WIDTH\n",
    "                      ,IMG_CHANNELS=IMG_CHANNELS)\n",
    "\n",
    "model.compile(optimizer='adam',loss='categorical_crossentropy',metrics=['accuracy'])\n",
    "model.summary()"
   ]
  },
  {
   "cell_type": "markdown",
   "id": "2039744c",
   "metadata": {},
   "source": [
    "# Training the Model"
   ]
  },
  {
   "cell_type": "code",
   "execution_count": 64,
   "id": "6a58faec",
   "metadata": {},
   "outputs": [
    {
     "name": "stdout",
     "output_type": "stream",
     "text": [
      "Epoch 1/30\n",
      "80/80 [==============================] - 105s 1s/step - loss: 0.8650 - accuracy: 0.7570 - val_loss: 0.7797 - val_accuracy: 0.7661\n",
      "Epoch 2/30\n",
      "80/80 [==============================] - 100s 1s/step - loss: 0.7805 - accuracy: 0.7616 - val_loss: 0.7607 - val_accuracy: 0.7661\n",
      "Epoch 3/30\n",
      "80/80 [==============================] - 101s 1s/step - loss: 0.7590 - accuracy: 0.7616 - val_loss: 0.7257 - val_accuracy: 0.7661\n",
      "Epoch 4/30\n",
      "80/80 [==============================] - 100s 1s/step - loss: 0.7669 - accuracy: 0.7618 - val_loss: 0.7602 - val_accuracy: 0.7661\n",
      "Epoch 5/30\n",
      "80/80 [==============================] - 100s 1s/step - loss: 0.7699 - accuracy: 0.7616 - val_loss: 0.7583 - val_accuracy: 0.7661\n",
      "Epoch 6/30\n",
      "80/80 [==============================] - 100s 1s/step - loss: 0.7275 - accuracy: 0.7618 - val_loss: 0.7634 - val_accuracy: 0.8097\n",
      "Epoch 7/30\n",
      "80/80 [==============================] - 100s 1s/step - loss: 0.5495 - accuracy: 0.8356 - val_loss: 0.4635 - val_accuracy: 0.8506\n",
      "Epoch 8/30\n",
      "80/80 [==============================] - 101s 1s/step - loss: 0.4737 - accuracy: 0.8475 - val_loss: 0.4640 - val_accuracy: 0.8548\n",
      "Epoch 9/30\n",
      "80/80 [==============================] - 99s 1s/step - loss: 0.4366 - accuracy: 0.8526 - val_loss: 0.4174 - val_accuracy: 0.8548\n",
      "Epoch 10/30\n",
      "80/80 [==============================] - 101s 1s/step - loss: 0.4219 - accuracy: 0.8551 - val_loss: 0.3636 - val_accuracy: 0.8668\n",
      "Epoch 11/30\n",
      "80/80 [==============================] - 99s 1s/step - loss: 0.3773 - accuracy: 0.8664 - val_loss: 0.3817 - val_accuracy: 0.8645\n",
      "Epoch 12/30\n",
      "80/80 [==============================] - 100s 1s/step - loss: 0.3802 - accuracy: 0.8666 - val_loss: 0.4486 - val_accuracy: 0.8521\n",
      "Epoch 13/30\n",
      "80/80 [==============================] - 100s 1s/step - loss: 0.3580 - accuracy: 0.8731 - val_loss: 0.2992 - val_accuracy: 0.8867\n",
      "Epoch 14/30\n",
      "80/80 [==============================] - 100s 1s/step - loss: 0.3474 - accuracy: 0.8757 - val_loss: 0.3166 - val_accuracy: 0.8795\n",
      "Epoch 15/30\n",
      "80/80 [==============================] - 100s 1s/step - loss: 0.3217 - accuracy: 0.8842 - val_loss: 0.2993 - val_accuracy: 0.8871\n",
      "Epoch 16/30\n",
      "80/80 [==============================] - 100s 1s/step - loss: 0.3273 - accuracy: 0.8833 - val_loss: 0.3086 - val_accuracy: 0.8883\n",
      "Epoch 17/30\n",
      "80/80 [==============================] - 100s 1s/step - loss: 0.2772 - accuracy: 0.8997 - val_loss: 0.2561 - val_accuracy: 0.9074\n",
      "Epoch 18/30\n",
      "80/80 [==============================] - 100s 1s/step - loss: 0.3075 - accuracy: 0.8919 - val_loss: 0.2670 - val_accuracy: 0.9033\n",
      "Epoch 19/30\n",
      "80/80 [==============================] - 100s 1s/step - loss: 0.2680 - accuracy: 0.9041 - val_loss: 0.2614 - val_accuracy: 0.9063\n",
      "Epoch 20/30\n",
      "80/80 [==============================] - 100s 1s/step - loss: 0.2457 - accuracy: 0.9125 - val_loss: 0.2728 - val_accuracy: 0.9063\n",
      "Epoch 21/30\n",
      "80/80 [==============================] - 100s 1s/step - loss: 0.2676 - accuracy: 0.9061 - val_loss: 0.2555 - val_accuracy: 0.9122\n",
      "Epoch 22/30\n",
      "80/80 [==============================] - 100s 1s/step - loss: 0.2769 - accuracy: 0.9031 - val_loss: 0.2340 - val_accuracy: 0.9165\n",
      "Epoch 23/30\n",
      "80/80 [==============================] - 99s 1s/step - loss: 0.3823 - accuracy: 0.8689 - val_loss: 0.3612 - val_accuracy: 0.8766\n",
      "Epoch 24/30\n",
      "80/80 [==============================] - 100s 1s/step - loss: 0.3189 - accuracy: 0.8880 - val_loss: 0.2831 - val_accuracy: 0.8997\n",
      "Epoch 25/30\n",
      "80/80 [==============================] - 100s 1s/step - loss: 0.2529 - accuracy: 0.9110 - val_loss: 0.2270 - val_accuracy: 0.9201\n",
      "Epoch 26/30\n",
      "80/80 [==============================] - 100s 1s/step - loss: 0.2271 - accuracy: 0.9197 - val_loss: 0.2566 - val_accuracy: 0.9059\n",
      "Epoch 27/30\n",
      "80/80 [==============================] - 99s 1s/step - loss: 0.2274 - accuracy: 0.9196 - val_loss: 0.2144 - val_accuracy: 0.9226\n",
      "Epoch 28/30\n",
      "80/80 [==============================] - 103s 1s/step - loss: 0.2163 - accuracy: 0.9239 - val_loss: 0.2113 - val_accuracy: 0.9247\n",
      "Epoch 29/30\n",
      "80/80 [==============================] - 100s 1s/step - loss: 0.2071 - accuracy: 0.9262 - val_loss: 0.1999 - val_accuracy: 0.9299\n",
      "Epoch 30/30\n",
      "80/80 [==============================] - 98s 1s/step - loss: 0.1997 - accuracy: 0.9290 - val_loss: 0.2190 - val_accuracy: 0.9218\n"
     ]
    }
   ],
   "source": [
    "history=model.fit(X_train,Y_train_cat,batch_size=BATCH_SIZE,verbose=1,\n",
    "                 epochs=30,validation_data=(X_test,Y_test_cat))"
   ]
  },
  {
   "cell_type": "markdown",
   "id": "4e46e39a",
   "metadata": {},
   "source": [
    "# Saving the Model and Weights"
   ]
  },
  {
   "cell_type": "code",
   "execution_count": 65,
   "id": "63007988",
   "metadata": {},
   "outputs": [
    {
     "name": "stdout",
     "output_type": "stream",
     "text": [
      "Saved!\n"
     ]
    }
   ],
   "source": [
    "model.save(\"sandstone model/Unet_Multiclass_Model.h5\")\n",
    "\n",
    "# Saved model weights.\n",
    "model.save_weights(\"sandstone model/Unet_MultiClass_Weights.h5\")\n",
    "print(\"Saved!\")"
   ]
  },
  {
   "cell_type": "markdown",
   "id": "d98ed932",
   "metadata": {},
   "source": [
    "# Plotting the results"
   ]
  },
  {
   "cell_type": "code",
   "execution_count": 67,
   "id": "44540d28",
   "metadata": {},
   "outputs": [],
   "source": [
    "train_acc=history.history['accuracy']\n",
    "train_loss=history.history['loss']\n",
    "test_acc=history.history['val_accuracy']\n",
    "test_loss=history.history['val_loss']"
   ]
  },
  {
   "cell_type": "code",
   "execution_count": 68,
   "id": "45ab2bec",
   "metadata": {},
   "outputs": [
    {
     "data": {
      "image/png": "[encoded data removed]",
      "text/plain": [
       "<Figure size 600x400 with 1 Axes>"
      ]
     },
     "metadata": {
      "needs_background": "light"
     },
     "output_type": "display_data"
    }
   ],
   "source": [
    "plt.figure(dpi=100)\n",
    "plt.plot(train_acc,label=\"Train Accuracy\")\n",
    "plt.plot(test_acc,label=\"Test Accuracy\")\n",
    "plt.title(\"Model Accuracy Values\")\n",
    "plt.legend()\n",
    "plt.show()"
   ]
  },
  {
   "cell_type": "code",
   "execution_count": 69,
   "id": "872496a9",
   "metadata": {},
   "outputs": [
    {
     "data": {
      "image/png": "[encoded data removed]",
      "text/plain": [
       "<Figure size 600x400 with 1 Axes>"
      ]
     },
     "metadata": {
      "needs_background": "light"
     },
     "output_type": "display_data"
    }
   ],
   "source": [
    "plt.figure(dpi=100)\n",
    "plt.plot(train_loss,label=\"Train Loss\")\n",
    "plt.plot(test_loss,label=\"Test Loss\")\n",
    "plt.title(\"Model Loss Values\")\n",
    "plt.legend()\n",
    "plt.show()"
   ]
  },
  {
   "cell_type": "code",
   "execution_count": 74,
   "id": "1f15800f",
   "metadata": {},
   "outputs": [
    {
     "name": "stdout",
     "output_type": "stream",
     "text": [
      "10/10 [==============================] - 4s 339ms/step - loss: 0.2190 - accuracy: 0.9218\n"
     ]
    },
    {
     "data": {
      "text/plain": [
       "[0.21895185112953186, 0.9218107461929321]"
      ]
     },
     "execution_count": 74,
     "metadata": {},
     "output_type": "execute_result"
    }
   ],
   "source": [
    "model.evaluate(X_test,Y_test_cat)"
   ]
  },
  {
   "cell_type": "markdown",
   "id": "accc86e6",
   "metadata": {},
   "source": [
    "# Predict any image"
   ]
  },
  {
   "cell_type": "code",
   "execution_count": 234,
   "id": "7a552283",
   "metadata": {},
   "outputs": [
    {
     "name": "stdout",
     "output_type": "stream",
     "text": [
      "random num: 48\n",
      "(128, 128, 1)\n",
      "test_img_norm.shape (128, 128, 1)\n",
      "test_img_input.shape (1, 128, 128, 1)\n",
      "1/1 [==============================] - 0s 31ms/step\n",
      "prediction.shape (1, 128, 128, 4)\n",
      "predicted_img.shape (128, 128)\n"
     ]
    }
   ],
   "source": [
    "# Choose random number\n",
    "rand_num=random.randint(0,len(X_test))\n",
    "print(\"random num:\",rand_num)\n",
    "\n",
    "# Choose random test image and mask(label)\n",
    "test_img=X_test[rand_num]\n",
    "print(test_img.shape)\n",
    "test_img_label=Y_test[rand_num]\n",
    "\n",
    "# Convert 4-dimensional to test image for prediction\n",
    "test_img_norm=test_img[:,:,0][:,:,None]\n",
    "print(\"test_img_norm.shape\",test_img_norm.shape)\n",
    "test_img_input=np.expand_dims(test_img_norm,axis=0)\n",
    "print(\"test_img_input.shape\",test_img_input.shape)\n",
    "\n",
    "prediction=model.predict(test_img_input)\n",
    "print(\"prediction.shape\",prediction.shape)\n",
    "predicted_img=np.argmax(prediction,axis=3)[0,:,:] # Get the index of max values for 4th dimension.\n",
    "print(\"predicted_img.shape\",predicted_img.shape)\n"
   ]
  },
  {
   "cell_type": "code",
   "execution_count": 235,
   "id": "500c1d2f",
   "metadata": {},
   "outputs": [
    {
     "data": {
      "image/png": "[encoded data removed]",
      "text/plain": [
       "<Figure size 864x576 with 3 Axes>"
      ]
     },
     "metadata": {
      "needs_background": "light"
     },
     "output_type": "display_data"
    }
   ],
   "source": [
    "plt.figure(figsize=(12,8))\n",
    "plt.subplot(231)\n",
    "plt.title('Testing Image')\n",
    "plt.imshow(test_img,cmap='gray')\n",
    "\n",
    "plt.subplot(232)\n",
    "plt.title('Testing Label')\n",
    "plt.imshow(test_img_label,cmap=\"jet\")\n",
    "\n",
    "plt.subplot(233)\n",
    "plt.title('Prediction on test image')\n",
    "plt.imshow(predicted_img,cmap='jet')\n",
    "\n",
    "plt.show()"
   ]
  },
  {
   "cell_type": "code",
   "execution_count": 165,
   "id": "b7bbdeb2",
   "metadata": {},
   "outputs": [
    {
     "data": {
      "text/plain": [
       "array([[0.4771964 , 0.33909953, 0.18195824, 0.0017458 ]], dtype=float32)"
      ]
     },
     "execution_count": 165,
     "metadata": {},
     "output_type": "execute_result"
    }
   ],
   "source": [
    "prediction[:,0,0] #0.kategoriye daha yakın olaslıkta."
   ]
  },
  {
   "cell_type": "code",
   "execution_count": 219,
   "id": "de1f8216",
   "metadata": {},
   "outputs": [
    {
     "data": {
      "text/plain": [
       "array([[0, 0, 0, ..., 2, 2, 2],\n",
       "       [0, 0, 0, ..., 2, 2, 2],\n",
       "       [0, 0, 0, ..., 2, 2, 2],\n",
       "       ...,\n",
       "       [2, 2, 2, ..., 2, 2, 2],\n",
       "       [2, 2, 2, ..., 2, 2, 2],\n",
       "       [2, 2, 2, ..., 2, 2, 2]], dtype=int64)"
      ]
     },
     "execution_count": 219,
     "metadata": {},
     "output_type": "execute_result"
    }
   ],
   "source": [
    "predicted_img"
   ]
  },
  {
   "cell_type": "code",
   "execution_count": 217,
   "id": "a9dfb024",
   "metadata": {},
   "outputs": [
    {
     "data": {
      "text/plain": [
       "array([0], dtype=int64)"
      ]
     },
     "execution_count": 217,
     "metadata": {},
     "output_type": "execute_result"
    }
   ],
   "source": [
    "np.argmax(prediction,axis=-1)[:,0,0]"
   ]
  },
  {
   "cell_type": "code",
   "execution_count": null,
   "id": "757333d7",
   "metadata": {},
   "outputs": [],
   "source": []
  }
 ],
 "metadata": {
  "kernelspec": {
   "display_name": "Python 3 (ipykernel)",
   "language": "python",
   "name": "python3"
  },
  "language_info": {
   "codemirror_mode": {
    "name": "ipython",
    "version": 3
   },
   "file_extension": ".py",
   "mimetype": "text/x-python",
   "name": "python",
   "nbconvert_exporter": "python",
   "pygments_lexer": "ipython3",
   "version": "3.9.12"
  }
 },
 "nbformat": 4,
 "nbformat_minor": 5
}
